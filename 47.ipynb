{
 "cells": [
  {
   "cell_type": "code",
   "execution_count": 28,
   "metadata": {},
   "outputs": [],
   "source": [
    "def permuteUnique(nums):\n",
    "    ans = [[]]\n",
    "    for n in nums:\n",
    "        new_ans = []\n",
    "        for l in ans:\n",
    "            print(\"n, ans, l: \", n, ans, l)\n",
    "            for i in range(len(l)+1):\n",
    "                new_ans.append(l[:i]+[n]+l[i:])\n",
    "                print(\"new_ans, i: \", new_ans, i)\n",
    "                if i<len(l) and l[i]==n: break\n",
    "        ans = new_ans\n",
    "    return ans"
   ]
  },
  {
   "cell_type": "code",
   "execution_count": 29,
   "metadata": {},
   "outputs": [
    {
     "name": "stdout",
     "output_type": "stream",
     "text": [
      "n, ans, l:  1 [[]] []\n",
      "new_ans, i:  [[1]] 0\n",
      "n, ans, l:  2 [[1]] [1]\n",
      "new_ans, i:  [[2, 1]] 0\n",
      "new_ans, i:  [[2, 1], [1, 2]] 1\n",
      "n, ans, l:  2 [[2, 1], [1, 2]] [2, 1]\n",
      "new_ans, i:  [[2, 2, 1]] 0\n",
      "n, ans, l:  2 [[2, 1], [1, 2]] [1, 2]\n",
      "new_ans, i:  [[2, 2, 1], [2, 1, 2]] 0\n",
      "new_ans, i:  [[2, 2, 1], [2, 1, 2], [1, 2, 2]] 1\n",
      "n, ans, l:  3 [[2, 2, 1], [2, 1, 2], [1, 2, 2]] [2, 2, 1]\n",
      "new_ans, i:  [[3, 2, 2, 1]] 0\n",
      "new_ans, i:  [[3, 2, 2, 1], [2, 3, 2, 1]] 1\n",
      "new_ans, i:  [[3, 2, 2, 1], [2, 3, 2, 1], [2, 2, 3, 1]] 2\n",
      "new_ans, i:  [[3, 2, 2, 1], [2, 3, 2, 1], [2, 2, 3, 1], [2, 2, 1, 3]] 3\n",
      "n, ans, l:  3 [[2, 2, 1], [2, 1, 2], [1, 2, 2]] [2, 1, 2]\n",
      "new_ans, i:  [[3, 2, 2, 1], [2, 3, 2, 1], [2, 2, 3, 1], [2, 2, 1, 3], [3, 2, 1, 2]] 0\n",
      "new_ans, i:  [[3, 2, 2, 1], [2, 3, 2, 1], [2, 2, 3, 1], [2, 2, 1, 3], [3, 2, 1, 2], [2, 3, 1, 2]] 1\n",
      "new_ans, i:  [[3, 2, 2, 1], [2, 3, 2, 1], [2, 2, 3, 1], [2, 2, 1, 3], [3, 2, 1, 2], [2, 3, 1, 2], [2, 1, 3, 2]] 2\n",
      "new_ans, i:  [[3, 2, 2, 1], [2, 3, 2, 1], [2, 2, 3, 1], [2, 2, 1, 3], [3, 2, 1, 2], [2, 3, 1, 2], [2, 1, 3, 2], [2, 1, 2, 3]] 3\n",
      "n, ans, l:  3 [[2, 2, 1], [2, 1, 2], [1, 2, 2]] [1, 2, 2]\n",
      "new_ans, i:  [[3, 2, 2, 1], [2, 3, 2, 1], [2, 2, 3, 1], [2, 2, 1, 3], [3, 2, 1, 2], [2, 3, 1, 2], [2, 1, 3, 2], [2, 1, 2, 3], [3, 1, 2, 2]] 0\n",
      "new_ans, i:  [[3, 2, 2, 1], [2, 3, 2, 1], [2, 2, 3, 1], [2, 2, 1, 3], [3, 2, 1, 2], [2, 3, 1, 2], [2, 1, 3, 2], [2, 1, 2, 3], [3, 1, 2, 2], [1, 3, 2, 2]] 1\n",
      "new_ans, i:  [[3, 2, 2, 1], [2, 3, 2, 1], [2, 2, 3, 1], [2, 2, 1, 3], [3, 2, 1, 2], [2, 3, 1, 2], [2, 1, 3, 2], [2, 1, 2, 3], [3, 1, 2, 2], [1, 3, 2, 2], [1, 2, 3, 2]] 2\n",
      "new_ans, i:  [[3, 2, 2, 1], [2, 3, 2, 1], [2, 2, 3, 1], [2, 2, 1, 3], [3, 2, 1, 2], [2, 3, 1, 2], [2, 1, 3, 2], [2, 1, 2, 3], [3, 1, 2, 2], [1, 3, 2, 2], [1, 2, 3, 2], [1, 2, 2, 3]] 3\n"
     ]
    },
    {
     "data": {
      "text/plain": [
       "[[3, 2, 2, 1],\n",
       " [2, 3, 2, 1],\n",
       " [2, 2, 3, 1],\n",
       " [2, 2, 1, 3],\n",
       " [3, 2, 1, 2],\n",
       " [2, 3, 1, 2],\n",
       " [2, 1, 3, 2],\n",
       " [2, 1, 2, 3],\n",
       " [3, 1, 2, 2],\n",
       " [1, 3, 2, 2],\n",
       " [1, 2, 3, 2],\n",
       " [1, 2, 2, 3]]"
      ]
     },
     "execution_count": 29,
     "metadata": {},
     "output_type": "execute_result"
    }
   ],
   "source": [
    "permuteUnique([1,2,2,3])"
   ]
  },
  {
   "cell_type": "code",
   "execution_count": null,
   "metadata": {},
   "outputs": [],
   "source": [
    "class Solution:\n",
    "    def permuteUnique(self, nums):\n",
    "        \"\"\"\n",
    "        :type nums: List[int]\n",
    "        :rtype: List[List[int]]\n",
    "        \"\"\"\n",
    "        if len(nums)==0:\n",
    "            return [nums]\n",
    "        \n",
    "        if len(nums)==1:\n",
    "            return [nums]\n",
    "        \n",
    "        res = []\n",
    "        for i in range(len(nums)):\n",
    "            \n",
    "            val = nums[i]\n",
    "            for j in self.permuteUnique(nums[:i]+nums[(i+1):]):\n",
    "                res.append([val]+j)\n",
    "        \n",
    "        return res"
   ]
  }
 ],
 "metadata": {
  "kernelspec": {
   "display_name": "Python 3",
   "language": "python",
   "name": "python3"
  },
  "language_info": {
   "codemirror_mode": {
    "name": "ipython",
    "version": 3
   },
   "file_extension": ".py",
   "mimetype": "text/x-python",
   "name": "python",
   "nbconvert_exporter": "python",
   "pygments_lexer": "ipython3",
   "version": "3.7.6"
  }
 },
 "nbformat": 4,
 "nbformat_minor": 2
}
