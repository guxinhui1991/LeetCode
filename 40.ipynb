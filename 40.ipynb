{
 "cells": [
  {
   "cell_type": "code",
   "execution_count": 3,
   "metadata": {},
   "outputs": [],
   "source": [
    "class Solution:\n",
    "    def combinationSum2(self, candidates, target):\n",
    "                \n",
    "        def dfs(i, val, path):\n",
    "            while i < len(candidates):\n",
    "                num = candidates[i]\n",
    "                val_ = val + num\n",
    "                path_ = path + [num]\n",
    "                if val_ > target:\n",
    "                    return\n",
    "                elif val_ == target:\n",
    "                    ans.append(path_)\n",
    "                    return                  \n",
    "                dfs(i+1, val_, path_)\n",
    "                while i<len(candidates)-1 and candidates[i]==candidates[i+1]:\n",
    "                    i += 1\n",
    "                i += 1\n",
    "               \n",
    "        candidates = sorted(candidates)\n",
    "        ans = []\n",
    "        dfs(0, 0, [])\n",
    "        return ans"
   ]
  },
  {
   "cell_type": "code",
   "execution_count": 5,
   "metadata": {},
   "outputs": [
    {
     "data": {
      "text/plain": [
       "[[1, 4], [2, 3], [5]]"
      ]
     },
     "execution_count": 5,
     "metadata": {},
     "output_type": "execute_result"
    }
   ],
   "source": [
    "candidates = [1,2,3,4,5]\n",
    "target = 5\n",
    "Solution().combinationSum2(candidates, target)"
   ]
  },
  {
   "cell_type": "code",
   "execution_count": null,
   "metadata": {},
   "outputs": [],
   "source": [
    "class Solution:\n",
    "    def search_path(self, candidates, target, index, cur_path, res):\n",
    "        if target == 0:\n",
    "            res.append(cur_path)\n",
    "            return\n",
    "\n",
    "        if len(candidates)==0 or target <candidates[0]:\n",
    "            return \n",
    "        \n",
    "        for i in range(index, len(candidates)):\n",
    "            target_new = target - candidates[i]\n",
    "            candidates_new = candidates[:i] + candidates[i+1:]\n",
    "            self.search_path(candidates_new, target_new, i, cur_path+[candidates[i]], res)\n",
    "\n",
    "\n",
    "    def combinationSum2(self, candidates, target):\n",
    "        res = []\n",
    "        candidates = sorted(candidates)        \n",
    "        self.search_path(candidates, target, 0, [], res)\n",
    "        \n",
    "        res_clean=[]\n",
    "        for i, k in enumerate(res):\n",
    "            if k in res_clean:\n",
    "                continue\n",
    "            res_clean.append(k)\n",
    "        \n",
    "        return res_clean\n",
    "\n"
   ]
  }
 ],
 "metadata": {
  "kernelspec": {
   "display_name": "Python 3",
   "language": "python",
   "name": "python3"
  },
  "language_info": {
   "codemirror_mode": {
    "name": "ipython",
    "version": 3
   },
   "file_extension": ".py",
   "mimetype": "text/x-python",
   "name": "python",
   "nbconvert_exporter": "python",
   "pygments_lexer": "ipython3",
   "version": "3.7.3"
  }
 },
 "nbformat": 4,
 "nbformat_minor": 2
}
