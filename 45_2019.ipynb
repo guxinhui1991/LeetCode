{
 "cells": [
  {
   "cell_type": "code",
   "execution_count": 9,
   "metadata": {},
   "outputs": [],
   "source": [
    "##\n",
    "## Dec 2018\n",
    "##\n",
    "\n",
    "\n",
    "class Solution:\n",
    "    def jump(self, nums):\n",
    "        res = 0\n",
    "        n = len(nums)\n",
    "        last, cur = 0, 0\n",
    "        \n",
    "        for i in range(n-1):\n",
    "            cur = max(cur, i+nums[i])\n",
    "            if i == last:\n",
    "                last = cur\n",
    "                res+=1\n",
    "                if cur>n-1: break\n",
    "                    \n",
    "        return res\n",
    "        "
   ]
  },
  {
   "cell_type": "code",
   "execution_count": 10,
   "metadata": {},
   "outputs": [
    {
     "data": {
      "text/plain": [
       "2"
      ]
     },
     "execution_count": 10,
     "metadata": {},
     "output_type": "execute_result"
    }
   ],
   "source": [
    "Solution().jump([2,3,1,1,4])"
   ]
  },
  {
   "cell_type": "code",
   "execution_count": null,
   "metadata": {},
   "outputs": [],
   "source": []
  },
  {
   "cell_type": "code",
   "execution_count": 15,
   "metadata": {},
   "outputs": [],
   "source": [
    "##\n",
    "## Aug 2019\n",
    "##\n",
    "def jump(nums):\n",
    "    \"\"\"\n",
    "    :type nums: List[int]\n",
    "    :rtype: int\n",
    "    \"\"\"\n",
    "    if(len(nums) < 0):\n",
    "        return 0\n",
    "    \n",
    "    if(nums[0] >= len(nums)):\n",
    "        return 1\n",
    "    \n",
    "    return min(1+jump(nums[1:]), jump(nums[nums[0]:]))"
   ]
  },
  {
   "cell_type": "code",
   "execution_count": 16,
   "metadata": {},
   "outputs": [
    {
     "data": {
      "text/plain": [
       "1"
      ]
     },
     "execution_count": 16,
     "metadata": {},
     "output_type": "execute_result"
    }
   ],
   "source": [
    "jump([2,3,1,1,4])"
   ]
  },
  {
   "cell_type": "code",
   "execution_count": null,
   "metadata": {},
   "outputs": [],
   "source": []
  }
 ],
 "metadata": {
  "kernelspec": {
   "display_name": "Python 3",
   "language": "python",
   "name": "python3"
  },
  "language_info": {
   "codemirror_mode": {
    "name": "ipython",
    "version": 3
   },
   "file_extension": ".py",
   "mimetype": "text/x-python",
   "name": "python",
   "nbconvert_exporter": "python",
   "pygments_lexer": "ipython3",
   "version": "3.7.3"
  }
 },
 "nbformat": 4,
 "nbformat_minor": 2
}
