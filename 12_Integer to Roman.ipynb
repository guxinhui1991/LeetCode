{
 "cells": [
  {
   "cell_type": "code",
   "execution_count": 1,
   "metadata": {
    "collapsed": true
   },
   "outputs": [],
   "source": [
    "import numpy as np\n",
    "import pandas as pd"
   ]
  },
  {
   "cell_type": "code",
   "execution_count": 8,
   "metadata": {
    "collapsed": true
   },
   "outputs": [],
   "source": [
    "class Solution:\n",
    "    def intToRoman(self, num):\n",
    "        \"\"\"\n",
    "        :type num: int\n",
    "        :rtype: str\n",
    "        \"\"\"\n",
    "        roman_dict = {\n",
    "            'I' : 1,\n",
    "            'IV' : 4,\n",
    "            'V' : 5,\n",
    "            'IX' : 9,\n",
    "            'X' : 10,\n",
    "            'L' : 50,\n",
    "            'C' : 100,\n",
    "            'D' : 500,\n",
    "            'M' : 1000,\n",
    "        }\n",
    "        for i in roman_dict.keys():\n",
    "            num = int(num/roman_dict[i])\n",
    "            \n",
    "    def roman_out(num):\n",
    "        if num"
   ]
  },
  {
   "cell_type": "code",
   "execution_count": 5,
   "metadata": {},
   "outputs": [
    {
     "name": "stdout",
     "output_type": "stream",
     "text": [
      "{'I': 1, 'V': 5, 'X': 10, 'L': 50, 'C': 100, 'D': 500, 'M': 100}\n"
     ]
    }
   ],
   "source": [
    "Solution().intToRoman(2)"
   ]
  },
  {
   "cell_type": "code",
   "execution_count": 11,
   "metadata": {},
   "outputs": [],
   "source": [
    "roman_dict = {\n",
    "    'I' : 1,\n",
    "    'V' : 5,\n",
    "    'X' : 10,\n",
    "    'L' : 50,\n",
    "    'C' : 100,\n",
    "    'D' : 500,\n",
    "    'M' : 1000,\n",
    "}"
   ]
  },
  {
   "cell_type": "code",
   "execution_count": 22,
   "metadata": {
    "scrolled": true
   },
   "outputs": [
    {
     "name": "stdout",
     "output_type": "stream",
     "text": [
      "1\n",
      "5\n",
      "10\n",
      "50\n",
      "100\n",
      "500\n",
      "1000\n"
     ]
    }
   ],
   "source": [
    "num = 27\n",
    "for i in roman_dict.keys():\n",
    "    print(roman_dict[i])"
   ]
  },
  {
   "cell_type": "code",
   "execution_count": 28,
   "metadata": {},
   "outputs": [],
   "source": [
    "class Solution:\n",
    "    def intToRoman(self, num):\n",
    "        \"\"\"\n",
    "        :type num: int\n",
    "        :rtype: str\n",
    "        \"\"\"\n",
    "        I = [1,4,5,9,10,40,50,90,100,400,500,900,1000]\n",
    "        S = ['I','IV','V','IX','X','XL','L','XC','C','CD','D','CM','M']\n",
    "        res = ''\n",
    "        for i in range(len(I)-1,-1,-1):\n",
    "            tim , num = divmod(num,I[i])\n",
    "            res += tim*S[i]\n",
    "        return res"
   ]
  }
 ],
 "metadata": {
  "kernelspec": {
   "display_name": "Python 3",
   "language": "python",
   "name": "python3"
  },
  "language_info": {
   "codemirror_mode": {
    "name": "ipython",
    "version": 3
   },
   "file_extension": ".py",
   "mimetype": "text/x-python",
   "name": "python",
   "nbconvert_exporter": "python",
   "pygments_lexer": "ipython3",
   "version": "3.6.3"
  }
 },
 "nbformat": 4,
 "nbformat_minor": 2
}
