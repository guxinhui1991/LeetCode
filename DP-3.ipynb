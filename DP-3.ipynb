{
 "cells": [
  {
   "cell_type": "code",
   "execution_count": 25,
   "metadata": {},
   "outputs": [],
   "source": [
    "# A naive Python implementation of LIS problem \n",
    "  \n",
    "\"\"\" To make use of recursive calls, this function must return \n",
    " two things: \n",
    " 1) Length of LIS ending with element arr[n-1]. We use \n",
    " max_ending_here for this purpose \n",
    " 2) Overall maximum as the LIS may end with an element \n",
    " before arr[n-1] max_ref is used this purpose. \n",
    " The value of LIS of full array of size n is stored in \n",
    " *max_ref which is our final result \"\"\"\n",
    "  \n",
    "# global variable to store the maximum \n",
    "global maximum \n",
    "  \n",
    "def lis_at_n(arr, n):\n",
    "    \n",
    "    global maximum\n",
    "    \n",
    "    if n == 1:\n",
    "        return 1\n",
    "    max_at_n = 1\n",
    "    \n",
    "    for i in range(1, n):\n",
    "        res = lis_at_n(arr , i) \n",
    "        if arr[i-1] < arr[n-1] and res+1 > max_at_n: \n",
    "            max_at_n = res +1\n",
    "\n",
    "    maximum = max(maximum, max_at_n)\n",
    "    return max_at_n\n",
    "\n",
    "\n",
    "def lis(arr):\n",
    "    global maximum\n",
    "    \n",
    "    maximum = 1\n",
    "    lis_at_n(arr, len(arr))\n",
    "    return maximum"
   ]
  },
  {
   "cell_type": "code",
   "execution_count": 26,
   "metadata": {},
   "outputs": [
    {
     "name": "stdout",
     "output_type": "stream",
     "text": [
      "Length of lis is  7\n"
     ]
    }
   ],
   "source": [
    "arr = [10, 22, 9, 33, 21, 50, 41, 60, 80, 120] \n",
    "n = len(arr) \n",
    "print (\"Length of lis is \", lis(arr))"
   ]
  },
  {
   "cell_type": "code",
   "execution_count": null,
   "metadata": {},
   "outputs": [],
   "source": []
  },
  {
   "cell_type": "code",
   "execution_count": null,
   "metadata": {},
   "outputs": [],
   "source": []
  }
 ],
 "metadata": {
  "kernelspec": {
   "display_name": "Python 3",
   "language": "python",
   "name": "python3"
  },
  "language_info": {
   "codemirror_mode": {
    "name": "ipython",
    "version": 3
   },
   "file_extension": ".py",
   "mimetype": "text/x-python",
   "name": "python",
   "nbconvert_exporter": "python",
   "pygments_lexer": "ipython3",
   "version": "3.7.3"
  }
 },
 "nbformat": 4,
 "nbformat_minor": 2
}
