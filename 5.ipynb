{
 "cells": [
  {
   "cell_type": "code",
   "execution_count": 39,
   "metadata": {},
   "outputs": [
    {
     "name": "stdout",
     "output_type": "stream",
     "text": [
      "bb\n",
      "abcba\n",
      "aba\n"
     ]
    }
   ],
   "source": [
    "class Solution(object):\n",
    "    def longestPalindrome(self, s):\n",
    "        \"\"\"\n",
    "        :type s: str\n",
    "        :rtype: str\n",
    "        \"\"\"\n",
    "        res = \"\"\n",
    "        if(len(s) <= 1): return s;\n",
    "\n",
    "        start, end = 0, 0\n",
    "        for i in range(len(s)):\n",
    "            res1 = self.expandFromMiddle(s, i, i)\n",
    "            res2 = self.expandFromMiddle(s, i, i + 1)\n",
    "\n",
    "            tempRes = max(res1, res2)\n",
    "            if(tempRes > (end - start + 1)):\n",
    "                start = i - int((tempRes-1)/2)\n",
    "                end = i + int(tempRes/2)\n",
    "            res = s[start:end+1]\n",
    "        return res\n",
    "\n",
    "\n",
    "    def expandFromMiddle(self, s, start, end):\n",
    "        if (start > end): return 0\n",
    "\n",
    "        while ((start >= 0) and (end < len(s)) and (s[start] == s[end])):\n",
    "            start = start - 1\n",
    "            end = end + 1\n",
    "\n",
    "        return end - start - 1\n",
    "\n",
    "\n",
    "if __name__ == '__main__':\n",
    "    print(Solution().longestPalindrome('cbbd'))\n",
    "    print(Solution().longestPalindrome('abcba'))\n",
    "    print(Solution().longestPalindrome('ababd'))\n"
   ]
  },
  {
   "cell_type": "code",
   "execution_count": null,
   "metadata": {},
   "outputs": [],
   "source": []
  }
 ],
 "metadata": {
  "kernelspec": {
   "display_name": "Python 3 (ipykernel)",
   "language": "python",
   "name": "python3"
  },
  "language_info": {
   "codemirror_mode": {
    "name": "ipython",
    "version": 3
   },
   "file_extension": ".py",
   "mimetype": "text/x-python",
   "name": "python",
   "nbconvert_exporter": "python",
   "pygments_lexer": "ipython3",
   "version": "3.9.13"
  }
 },
 "nbformat": 4,
 "nbformat_minor": 4
}
