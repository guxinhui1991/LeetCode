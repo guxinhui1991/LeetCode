{
 "cells": [
  {
   "cell_type": "code",
   "execution_count": 5,
   "id": "alike-trailer",
   "metadata": {},
   "outputs": [],
   "source": [
    "class Solution:\n",
    "    def decodeString(self, s):\n",
    "        it, num, stack = 0, 0, [\"\"]\n",
    "        while it < len(s):\n",
    "            if s[it].isdigit():\n",
    "                num = num * 10 + int(s[it])\n",
    "                print(num, s[it])\n",
    "            elif s[it] == \"[\":\n",
    "                stack.append(num)\n",
    "                num = 0\n",
    "                stack.append(\"\")\n",
    "            elif s[it] == \"]\":\n",
    "                str1 = stack.pop()\n",
    "                rep = stack.pop()\n",
    "                str2 = stack.pop()\n",
    "                stack.append(str2 + str1 * rep)\n",
    "            else:\n",
    "                stack[-1] += s[it]              \n",
    "            it += 1           \n",
    "        return \"\".join(stack)"
   ]
  },
  {
   "cell_type": "code",
   "execution_count": 6,
   "id": "daily-lucas",
   "metadata": {},
   "outputs": [
    {
     "name": "stdout",
     "output_type": "stream",
     "text": [
      "3 3\n",
      "5 5\n",
      "4 4\n"
     ]
    },
    {
     "data": {
      "text/plain": [
       "'acccccacccccacccccbbbb'"
      ]
     },
     "execution_count": 6,
     "metadata": {},
     "output_type": "execute_result"
    }
   ],
   "source": [
    "Solution().decodeString(s = '3[a5[c]]4[b]')"
   ]
  },
  {
   "cell_type": "code",
   "execution_count": 4,
   "id": "technological-concept",
   "metadata": {},
   "outputs": [
    {
     "data": {
      "text/plain": [
       "'acccccacccccacccccbbbb'"
      ]
     },
     "execution_count": 4,
     "metadata": {},
     "output_type": "execute_result"
    }
   ],
   "source": [
    "Solution().decodeString(s = '3[a5[c]]4[b]')"
   ]
  },
  {
   "cell_type": "code",
   "execution_count": null,
   "id": "developmental-comedy",
   "metadata": {},
   "outputs": [],
   "source": []
  }
 ],
 "metadata": {
  "kernelspec": {
   "display_name": "Python 3",
   "language": "python",
   "name": "python3"
  },
  "language_info": {
   "codemirror_mode": {
    "name": "ipython",
    "version": 3
   },
   "file_extension": ".py",
   "mimetype": "text/x-python",
   "name": "python",
   "nbconvert_exporter": "python",
   "pygments_lexer": "ipython3",
   "version": "3.7.7"
  }
 },
 "nbformat": 4,
 "nbformat_minor": 5
}
