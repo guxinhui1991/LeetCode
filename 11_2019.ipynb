{
 "cells": [
  {
   "cell_type": "code",
   "execution_count": 2,
   "metadata": {},
   "outputs": [],
   "source": [
    "def maxArea(height):\n",
    "    \"\"\"\n",
    "    :type height: List[int]\n",
    "    :rtype: int\n",
    "    \"\"\"\n",
    "    length = len(height)\n",
    "    i, j = 0, length-1\n",
    "    res_vec = []\n",
    "\n",
    "    while j>i:\n",
    "        res_vec.append(min(height[i], height[j])*(j-i))\n",
    "        if height[i] < height[j]:\n",
    "            i+=1\n",
    "        elif height[i] >= height[j]:\n",
    "            j-=1\n",
    "    return max(res_vec)"
   ]
  },
  {
   "cell_type": "code",
   "execution_count": null,
   "metadata": {},
   "outputs": [],
   "source": []
  }
 ],
 "metadata": {
  "kernelspec": {
   "display_name": "Python 3",
   "language": "python",
   "name": "python3"
  },
  "language_info": {
   "codemirror_mode": {
    "name": "ipython",
    "version": 3
   },
   "file_extension": ".py",
   "mimetype": "text/x-python",
   "name": "python",
   "nbconvert_exporter": "python",
   "pygments_lexer": "ipython3",
   "version": "3.7.3"
  }
 },
 "nbformat": 4,
 "nbformat_minor": 2
}
