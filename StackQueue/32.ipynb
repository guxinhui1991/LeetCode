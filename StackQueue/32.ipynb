{
 "cells": [
  {
   "cell_type": "code",
   "execution_count": 152,
   "metadata": {},
   "outputs": [],
   "source": [
    "def longestValidParentheses(s):\n",
    "    \"\"\"\n",
    "    :type s: str\n",
    "    :rtype: int\n",
    "    \"\"\"\n",
    "    \n",
    "    result = 0\n",
    "    curr = [-1]\n",
    "    for i in range(len(s)):\n",
    "        if s[i]=='(': \n",
    "            curr.append(i)\n",
    "        else:\n",
    "            val=curr.pop()\n",
    "            if len(curr)!=0:\n",
    "                result = max(result, i-curr[-1])\n",
    "            else:\n",
    "                curr.append(i)\n",
    "    return result\n",
    "\n",
    "\n",
    "\n",
    "    \"\"\"\n",
    "    :type s: str\n",
    "    :rtype: int\n",
    "    \"\"\"\n",
    "    result = 0\n",
    "    curr = []\n",
    "    for i in range(len(s)):\n",
    "        if s[i]=='(': \n",
    "            curr.append(i)\n",
    "        elif len(curr)>0:\n",
    "            val=curr.pop()\n",
    "            result = max(result, i-val+1)\n",
    "            if not curr:\n",
    "                curr.append(i)\n",
    "    return result\n"
   ]
  },
  {
   "cell_type": "code",
   "execution_count": 153,
   "metadata": {},
   "outputs": [
    {
     "name": "stdout",
     "output_type": "stream",
     "text": [
      "4\n",
      "4\n"
     ]
    }
   ],
   "source": [
    "test1 ='()()'\n",
    "test2 ='()(()))))'\n",
    "if __name__ == '__main__':\n",
    "    print(longestValidParentheses(test1))\n",
    "    print(findMaxLen(test1))\n"
   ]
  },
  {
   "cell_type": "code",
   "execution_count": 139,
   "metadata": {},
   "outputs": [],
   "source": [
    "def findMaxLen(string): \n",
    "    n = len(string) \n",
    "  \n",
    "    # Create a stack and push -1 as initial index to it. \n",
    "    stk = [] \n",
    "    stk.append(-1) \n",
    "  \n",
    "    # Initialize result \n",
    "    result = 0\n",
    "  \n",
    "    # Traverse all characters of given string \n",
    "    for i in range(n): \n",
    "      \n",
    "        # If opening bracket, push index of it \n",
    "        if string[i] == '(': \n",
    "            stk.append(i) \n",
    "  \n",
    "        else:    \n",
    "            # If closing bracket, i.e., str[i] = ')' \n",
    "            # Pop the previous opening bracket's index \n",
    "            stk.pop() \n",
    "      \n",
    "            # Check if this length formed with base of \n",
    "            # current valid substring is more than max  \n",
    "            # so far \n",
    "            if len(stk) != 0: \n",
    "                result = max(result, i - stk[len(stk)-1]) \n",
    "  \n",
    "            # If stack is empty. push current index as  \n",
    "            # base for next valid substring (if any) \n",
    "            else: \n",
    "                stk.append(i) \n",
    "  \n",
    "    return result                 "
   ]
  },
  {
   "cell_type": "code",
   "execution_count": null,
   "metadata": {},
   "outputs": [],
   "source": []
  }
 ],
 "metadata": {
  "kernelspec": {
   "display_name": "Python 3",
   "language": "python",
   "name": "python3"
  },
  "language_info": {
   "codemirror_mode": {
    "name": "ipython",
    "version": 3
   },
   "file_extension": ".py",
   "mimetype": "text/x-python",
   "name": "python",
   "nbconvert_exporter": "python",
   "pygments_lexer": "ipython3",
   "version": "3.6.5"
  }
 },
 "nbformat": 4,
 "nbformat_minor": 2
}
