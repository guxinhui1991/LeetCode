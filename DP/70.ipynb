{
 "cells": [
  {
   "cell_type": "code",
   "execution_count": 1,
   "metadata": {},
   "outputs": [],
   "source": [
    "def climbStairs(n):\n",
    "    if n < 0: return\n",
    "    elif n < 2: return 1\n",
    "    elif n ==2: return 2\n",
    "\n",
    "    res = [0]*n\n",
    "    res[0], res[1] = 1, 2\n",
    "    for i in range(2, n):\n",
    "        res[i] = res[i-1] + res[i-2]\n",
    "    return res[-1]"
   ]
  },
  {
   "cell_type": "code",
   "execution_count": 5,
   "metadata": {},
   "outputs": [
    {
     "name": "stdout",
     "output_type": "stream",
     "text": [
      "6.914138793945312e-05\n"
     ]
    }
   ],
   "source": [
    "import time\n",
    "start = time.time()\n",
    "climbStairs(40)\n",
    "print(time.time()-start)"
   ]
  },
  {
   "cell_type": "code",
   "execution_count": 6,
   "metadata": {},
   "outputs": [],
   "source": [
    "def climbStairs1(n):\n",
    "    if n < 0: return\n",
    "    elif n < 2: return 1\n",
    "    elif n ==2: return 2\n",
    "\n",
    "    return climbStairs1(n-1) + climbStairs1(n-2)"
   ]
  },
  {
   "cell_type": "code",
   "execution_count": 7,
   "metadata": {},
   "outputs": [
    {
     "name": "stdout",
     "output_type": "stream",
     "text": [
      "26.774203062057495\n"
     ]
    }
   ],
   "source": [
    "import time\n",
    "start = time.time()\n",
    "climbStairs1(40)\n",
    "print(time.time()-start)"
   ]
  },
  {
   "cell_type": "markdown",
   "metadata": {},
   "source": [
    "### Recursion"
   ]
  },
  {
   "cell_type": "code",
   "execution_count": 7,
   "metadata": {},
   "outputs": [],
   "source": [
    "class Solution1(object):\n",
    "    def climbStairs(self, n):\n",
    "        \"\"\"\n",
    "        :type n: int\n",
    "        :rtype: int\n",
    "        \"\"\"\n",
    "        if n == 1: return 1\n",
    "        if n == 2: return 2\n",
    "        return self.climbStairs(n-1) + self.climbStairs(n-2)"
   ]
  },
  {
   "cell_type": "markdown",
   "metadata": {},
   "source": [
    "### O(n)"
   ]
  },
  {
   "cell_type": "code",
   "execution_count": 8,
   "metadata": {},
   "outputs": [],
   "source": [
    "class Solution2(object):\n",
    "    def climbStairs(self, n):\n",
    "        \"\"\"\n",
    "        :type n: int\n",
    "        :rtype: int\n",
    "        \"\"\"\n",
    "        if n == 1: return 1\n",
    "        if n == 2: return 2\n",
    "        dp = [0]*n\n",
    "        dp[0] = 1\n",
    "        dp[1] = 2\n",
    "        for i in range(2, n):\n",
    "            dp[i] = dp[i-1] + dp[i-2]\n",
    "        return dp[-1]"
   ]
  },
  {
   "cell_type": "code",
   "execution_count": 9,
   "metadata": {},
   "outputs": [
    {
     "name": "stdout",
     "output_type": "stream",
     "text": [
      "3\n",
      "0.0002598762512207031\n",
      "3\n",
      "5.602836608886719e-05\n"
     ]
    }
   ],
   "source": [
    "import time\n",
    "\n",
    "n=3\n",
    "\n",
    "start = time.time()\n",
    "print(Solution1().climbStairs(n))\n",
    "print(time.time()-start)\n",
    "start = time.time()\n",
    "print(Solution2().climbStairs(n))\n",
    "print(time.time()-start)"
   ]
  },
  {
   "cell_type": "code",
   "execution_count": 10,
   "metadata": {},
   "outputs": [
    {
     "name": "stdout",
     "output_type": "stream",
     "text": [
      "10946\n",
      "0.002032756805419922\n",
      "10946\n",
      "5.888938903808594e-05\n"
     ]
    }
   ],
   "source": [
    "n=20\n",
    "\n",
    "start = time.time()\n",
    "print(Solution1().climbStairs(n))\n",
    "print(time.time()-start)\n",
    "start = time.time()\n",
    "print(Solution2().climbStairs(n))\n",
    "print(time.time()-start)"
   ]
  },
  {
   "cell_type": "code",
   "execution_count": 11,
   "metadata": {},
   "outputs": [
    {
     "name": "stdout",
     "output_type": "stream",
     "text": [
      "165580141\n",
      "24.86177921295166\n",
      "165580141\n",
      "7.295608520507812e-05\n"
     ]
    }
   ],
   "source": [
    "n=40\n",
    "\n",
    "start = time.time()\n",
    "print(Solution1().climbStairs(n))\n",
    "print(time.time()-start)\n",
    "start = time.time()\n",
    "print(Solution2().climbStairs(n))\n",
    "print(time.time()-start)"
   ]
  },
  {
   "cell_type": "code",
   "execution_count": 8,
   "metadata": {},
   "outputs": [],
   "source": [
    "class Solution(object):\n",
    "    def __init__(self):\n",
    "        self.steps = {}\n",
    "        self.steps[0] = 0\n",
    "        self.steps[1] = 1\n",
    "        self.steps[2] = 2\n",
    "\n",
    "    def climbStairs(self, n):\n",
    "        \"\"\"\n",
    "        :type n: int\n",
    "        :rtype: int\n",
    "        \"\"\"\n",
    "\n",
    "        if(n in self.steps): \n",
    "            return self.steps[n]\n",
    "        else:\n",
    "            self.steps[n] = self.climbStairs(n-1) + self.climbStairs(n-2)\n",
    "\n",
    "        return self.steps[n]\n",
    "\n"
   ]
  },
  {
   "cell_type": "code",
   "execution_count": 13,
   "metadata": {},
   "outputs": [
    {
     "name": "stdout",
     "output_type": "stream",
     "text": [
      "165580141\n",
      "0.00042891502380371094\n"
     ]
    }
   ],
   "source": [
    "start = time.time()\n",
    "print(Solution().climbStairs(40))\n",
    "print(time.time()-start)"
   ]
  },
  {
   "cell_type": "code",
   "execution_count": null,
   "metadata": {},
   "outputs": [],
   "source": []
  }
 ],
 "metadata": {
  "kernelspec": {
   "display_name": "Python 3 (ipykernel)",
   "language": "python",
   "name": "python3"
  },
  "language_info": {
   "codemirror_mode": {
    "name": "ipython",
    "version": 3
   },
   "file_extension": ".py",
   "mimetype": "text/x-python",
   "name": "python",
   "nbconvert_exporter": "python",
   "pygments_lexer": "ipython3",
   "version": "3.9.13"
  }
 },
 "nbformat": 4,
 "nbformat_minor": 2
}
