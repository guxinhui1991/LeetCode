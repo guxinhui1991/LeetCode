{
 "cells": [
  {
   "cell_type": "code",
   "execution_count": 1,
   "id": "5b05d8f5",
   "metadata": {},
   "outputs": [],
   "source": [
    "class Solution(object):\n",
    "    def __init__(self):\n",
    "        self.dict = {}\n",
    "        self.dict[0] = 0\n",
    "        self.dict[1] = 1\n",
    "        self.dict[2] = 1\n",
    "    \n",
    "    def tribonacci(self, n):\n",
    "        \"\"\"\n",
    "        :type n: int\n",
    "        :rtype: int\n",
    "        \"\"\"\n",
    "        \n",
    "        if n in self.dict:\n",
    "            return self.dict[n]\n",
    "        else:\n",
    "            self.dict[n] = self.tribonacci(n-1)+self.tribonacci(n-2)+self.tribonacci(n-3)\n",
    "            \n",
    "        return self.dict[n]"
   ]
  },
  {
   "cell_type": "code",
   "execution_count": 2,
   "id": "b1599ddb",
   "metadata": {},
   "outputs": [
    {
     "data": {
      "text/plain": [
       "1389537"
      ]
     },
     "execution_count": 2,
     "metadata": {},
     "output_type": "execute_result"
    }
   ],
   "source": [
    "Solution().tribonacci(25)"
   ]
  },
  {
   "cell_type": "code",
   "execution_count": null,
   "id": "0452eb31",
   "metadata": {},
   "outputs": [],
   "source": []
  }
 ],
 "metadata": {
  "kernelspec": {
   "display_name": "Python 3 (ipykernel)",
   "language": "python",
   "name": "python3"
  },
  "language_info": {
   "codemirror_mode": {
    "name": "ipython",
    "version": 3
   },
   "file_extension": ".py",
   "mimetype": "text/x-python",
   "name": "python",
   "nbconvert_exporter": "python",
   "pygments_lexer": "ipython3",
   "version": "3.9.13"
  }
 },
 "nbformat": 4,
 "nbformat_minor": 5
}
