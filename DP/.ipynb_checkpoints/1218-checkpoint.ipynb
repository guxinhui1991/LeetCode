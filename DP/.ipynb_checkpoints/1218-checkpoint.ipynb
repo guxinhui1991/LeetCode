{
 "cells": [
  {
   "cell_type": "code",
   "execution_count": 14,
   "id": "31c1c5d1",
   "metadata": {},
   "outputs": [],
   "source": [
    "class Solution(object):\n",
    "    def longestSubsequence(self, arr, difference):\n",
    "        \"\"\"\n",
    "        :type arr: List[int]\n",
    "        :type difference: int\n",
    "        :rtype: int\n",
    "        \"\"\"\n",
    "        \n",
    "        \n",
    "        if(not arr): return 0\n",
    "\n",
    "        res = [1]*len(arr)\n",
    "        \n",
    "        \n",
    "        for i, val in enumerate(arr[:-1]):\n",
    "            if arr[i+1] == arr[i] + difference:\n",
    "                res[i] = max(2+self.longestSubsequence(arr[i+2:], difference), self.longestSubsequence(arr[i+1:], difference))\n",
    "            else:\n",
    "                res[i] = self.longestSubsequence(arr[i+1:], difference)\n",
    "        return max(res)"
   ]
  },
  {
   "cell_type": "code",
   "execution_count": 28,
   "id": "4c9d4b7a",
   "metadata": {},
   "outputs": [],
   "source": [
    "class Solution(object):\n",
    "    def longestSubsequence(self, arr, d):\n",
    "        \"\"\"\n",
    "        :type arr: List[int]\n",
    "        :type difference: int\n",
    "        :rtype: int\n",
    "        \"\"\"\n",
    "        \n",
    "        \n",
    "        if(not arr): return 0\n",
    "\n",
    "        dp ={}\n",
    "        \n",
    "        for i, val in enumerate(arr):\n",
    "            if val - d in dp: dp[val] = dp[val-d] + 1\n",
    "            else: dp[val] = 1\n",
    "                \n",
    "        return max(dp.values())"
   ]
  },
  {
   "cell_type": "code",
   "execution_count": 29,
   "id": "6b9c14e8",
   "metadata": {},
   "outputs": [],
   "source": [
    "arr = [1,2,3,4]\n",
    "difference = 1"
   ]
  },
  {
   "cell_type": "code",
   "execution_count": 30,
   "id": "99c36a30",
   "metadata": {},
   "outputs": [
    {
     "data": {
      "text/plain": [
       "4"
      ]
     },
     "execution_count": 30,
     "metadata": {},
     "output_type": "execute_result"
    }
   ],
   "source": [
    "Solution().longestSubsequence(arr, difference)"
   ]
  },
  {
   "cell_type": "code",
   "execution_count": 31,
   "id": "519b9cad",
   "metadata": {},
   "outputs": [
    {
     "data": {
      "text/plain": [
       "1"
      ]
     },
     "execution_count": 31,
     "metadata": {},
     "output_type": "execute_result"
    }
   ],
   "source": [
    "arr = [1,3,5,7]\n",
    "difference = 1\n",
    "Solution().longestSubsequence(arr, difference)"
   ]
  },
  {
   "cell_type": "code",
   "execution_count": 32,
   "id": "1682079e",
   "metadata": {},
   "outputs": [
    {
     "data": {
      "text/plain": [
       "4"
      ]
     },
     "execution_count": 32,
     "metadata": {},
     "output_type": "execute_result"
    }
   ],
   "source": [
    "arr = [1,5,7,8,5,3,4,2,1]\n",
    "difference = -2\n",
    "Solution().longestSubsequence(arr, difference)"
   ]
  },
  {
   "cell_type": "code",
   "execution_count": null,
   "id": "c713b78e",
   "metadata": {},
   "outputs": [],
   "source": []
  }
 ],
 "metadata": {
  "kernelspec": {
   "display_name": "Python 3 (ipykernel)",
   "language": "python",
   "name": "python3"
  },
  "language_info": {
   "codemirror_mode": {
    "name": "ipython",
    "version": 3
   },
   "file_extension": ".py",
   "mimetype": "text/x-python",
   "name": "python",
   "nbconvert_exporter": "python",
   "pygments_lexer": "ipython3",
   "version": "3.9.13"
  }
 },
 "nbformat": 4,
 "nbformat_minor": 5
}
