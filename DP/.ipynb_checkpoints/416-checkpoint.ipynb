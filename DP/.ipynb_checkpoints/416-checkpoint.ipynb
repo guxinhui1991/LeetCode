{
 "cells": [
  {
   "cell_type": "markdown",
   "id": "e62cc93e",
   "metadata": {},
   "source": [
    "## 2D DP\n",
    "dp[i][j] 表示从下标为[0-i]的物品里任意取，放进容量为j的背包，价值总和最大是多少。"
   ]
  },
  {
   "cell_type": "code",
   "execution_count": 100,
   "id": "82b274bc",
   "metadata": {},
   "outputs": [],
   "source": [
    "class Solution(object):\n",
    "    def canPartition(self, nums):\n",
    "        \"\"\"\n",
    "        :type nums: List[int]\n",
    "        :rtype: bool\n",
    "        \"\"\"\n",
    "\n",
    "        N = len(nums)\n",
    "        maxM = 10000\n",
    "        if (sum(nums) % 2): return False\n",
    "\n",
    "        nums_target = sum(nums) // 2\n",
    "\n",
    "        dp = [[0 for _ in range(maxM+1)] for _ in range(N)]\n",
    "\n",
    "        for i in range(N):\n",
    "            for j in range(maxM, -1, -1):\n",
    "                dp[i][j] = min(j, max(dp[i - 1][j], dp[i - 1][j - nums[i]] + nums[i]))\n",
    "\n",
    "        # print(dp)\n",
    "        return dp[-1][:nums_target]==nums_target"
   ]
  },
  {
   "cell_type": "code",
   "execution_count": 101,
   "id": "7e9933a6",
   "metadata": {},
   "outputs": [
    {
     "data": {
      "text/plain": [
       "False"
      ]
     },
     "execution_count": 101,
     "metadata": {},
     "output_type": "execute_result"
    }
   ],
   "source": [
    "nums = [1,5,11,5]\n",
    "Solution().canPartition(nums)"
   ]
  },
  {
   "cell_type": "markdown",
   "id": "c581eb4a",
   "metadata": {},
   "source": [
    "## 1D DP"
   ]
  },
  {
   "cell_type": "code",
   "execution_count": 58,
   "id": "ab3415a0",
   "metadata": {},
   "outputs": [],
   "source": [
    "class Solution(object):\n",
    "    def canPartition(self, nums):\n",
    "        \"\"\"\n",
    "        :type nums: List[int]\n",
    "        :rtype: bool\n",
    "        \"\"\"\n",
    "        \n",
    "        if (sum(nums) % 2): return False\n",
    "\n",
    "        N = len(nums)\n",
    "        nums_target = sum(nums) // 2\n",
    "\n",
    "        dp = [0 for _ in range(10000)]\n",
    "\n",
    "        for i, num in enumerate(nums):\n",
    "            #print(dp[:15])\n",
    "            for j in range(nums_target, num-1, -1):\n",
    "                dp[j] = max(dp[j], dp[j - num] + num)\n",
    "        return dp[nums_target] == nums_target\n"
   ]
  },
  {
   "cell_type": "code",
   "execution_count": 59,
   "id": "ad103464",
   "metadata": {},
   "outputs": [
    {
     "data": {
      "text/plain": [
       "False"
      ]
     },
     "execution_count": 59,
     "metadata": {},
     "output_type": "execute_result"
    }
   ],
   "source": [
    "nums = [1,2,3,5]\n",
    "Solution().canPartition(nums)"
   ]
  },
  {
   "cell_type": "code",
   "execution_count": 60,
   "id": "8f699eb9",
   "metadata": {},
   "outputs": [
    {
     "name": "stdout",
     "output_type": "stream",
     "text": [
      "[0, 0, 0, 0, 0, 0, 0, 0, 0, 0, 0, 0, 0, 0, 0]\n",
      "[0, 1, 1, 1, 1, 1, 1, 1, 1, 1, 1, 1, 0, 0, 0]\n",
      "[0, 1, 1, 1, 1, 5, 6, 6, 6, 6, 6, 6, 0, 0, 0]\n",
      "[0, 1, 1, 1, 1, 5, 6, 6, 6, 6, 6, 11, 0, 0, 0]\n"
     ]
    },
    {
     "data": {
      "text/plain": [
       "True"
      ]
     },
     "execution_count": 60,
     "metadata": {},
     "output_type": "execute_result"
    }
   ],
   "source": [
    "nums = [1,5,11,5]\n",
    "Solution().canPartition(nums)"
   ]
  },
  {
   "cell_type": "code",
   "execution_count": null,
   "id": "e084ae71",
   "metadata": {},
   "outputs": [],
   "source": []
  }
 ],
 "metadata": {
  "kernelspec": {
   "display_name": "Python 3 (ipykernel)",
   "language": "python",
   "name": "python3"
  },
  "language_info": {
   "codemirror_mode": {
    "name": "ipython",
    "version": 3
   },
   "file_extension": ".py",
   "mimetype": "text/x-python",
   "name": "python",
   "nbconvert_exporter": "python",
   "pygments_lexer": "ipython3",
   "version": "3.9.13"
  }
 },
 "nbformat": 4,
 "nbformat_minor": 5
}
