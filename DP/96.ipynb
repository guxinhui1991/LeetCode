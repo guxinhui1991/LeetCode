{
 "cells": [
  {
   "cell_type": "code",
   "execution_count": 49,
   "id": "fe68e597",
   "metadata": {},
   "outputs": [],
   "source": [
    "class Solution(object):\n",
    "    def __init__(self):\n",
    "        self.memo = {}\n",
    "        self.memo[0] = 1\n",
    "        self.memo[1] = 1\n",
    "        self.memo[2] = 2\n",
    "    \n",
    "    \n",
    "    def numTrees(self, n):\n",
    "        \"\"\"\n",
    "        :type n: int\n",
    "        :rtype: int\n",
    "        \"\"\"\n",
    "        \n",
    "        if n in self.memo:\n",
    "            return self.memo[n]\n",
    "        \n",
    "        res = 0\n",
    "        \n",
    "        for i in range(n):\n",
    "            res += self.numTrees(i)*self.numTrees(n-i-1)\n",
    "        self.memo[n] = res\n",
    "        return res"
   ]
  },
  {
   "cell_type": "code",
   "execution_count": 50,
   "id": "dd4bc7a2",
   "metadata": {},
   "outputs": [
    {
     "data": {
      "text/plain": [
       "5"
      ]
     },
     "execution_count": 50,
     "metadata": {},
     "output_type": "execute_result"
    }
   ],
   "source": [
    "Solution().numTrees(3)"
   ]
  },
  {
   "cell_type": "code",
   "execution_count": 51,
   "id": "cab4c8f0",
   "metadata": {},
   "outputs": [
    {
     "data": {
      "text/plain": [
       "16796"
      ]
     },
     "execution_count": 51,
     "metadata": {},
     "output_type": "execute_result"
    }
   ],
   "source": [
    "Solution().numTrees(10)"
   ]
  },
  {
   "cell_type": "code",
   "execution_count": 52,
   "id": "77fc40be",
   "metadata": {},
   "outputs": [
    {
     "data": {
      "text/plain": [
       "9694845"
      ]
     },
     "execution_count": 52,
     "metadata": {},
     "output_type": "execute_result"
    }
   ],
   "source": [
    "Solution().numTrees(15)"
   ]
  },
  {
   "cell_type": "code",
   "execution_count": 53,
   "id": "995b7502",
   "metadata": {},
   "outputs": [
    {
     "data": {
      "text/plain": [
       "1767263190"
      ]
     },
     "execution_count": 53,
     "metadata": {},
     "output_type": "execute_result"
    }
   ],
   "source": [
    "Solution().numTrees(19)"
   ]
  },
  {
   "cell_type": "code",
   "execution_count": null,
   "id": "7b963c42",
   "metadata": {},
   "outputs": [],
   "source": []
  }
 ],
 "metadata": {
  "kernelspec": {
   "display_name": "Python 3 (ipykernel)",
   "language": "python",
   "name": "python3"
  },
  "language_info": {
   "codemirror_mode": {
    "name": "ipython",
    "version": 3
   },
   "file_extension": ".py",
   "mimetype": "text/x-python",
   "name": "python",
   "nbconvert_exporter": "python",
   "pygments_lexer": "ipython3",
   "version": "3.9.13"
  }
 },
 "nbformat": 4,
 "nbformat_minor": 5
}
