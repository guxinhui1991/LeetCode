{
 "cells": [
  {
   "cell_type": "code",
   "execution_count": 16,
   "metadata": {},
   "outputs": [],
   "source": [
    "def N_Queens(n):\n",
    "    \n",
    "    res = [[0 for i in range(n)] for j in range(n)]    \n",
    "    for i in range(n):\n",
    "        res[i][0] = 1\n",
    "        N_Queens(n-1)\n",
    "    \n",
    "    return res\n",
    "\n",
    "def check_valid(i, j, res):\n",
    "    if sum(res[i]) > 0: return False\n",
    "    if sum([res[m][j] for m in len(res)]) > 0: return False\n",
    "    if sum([res[i-m][j-m] for m in len(res)]) > 0: return False\n",
    "    \n",
    "    return True\n",
    "    "
   ]
  },
  {
   "cell_type": "code",
   "execution_count": 17,
   "metadata": {},
   "outputs": [
    {
     "data": {
      "text/plain": [
       "[[0, 0, 0, 0, 0],\n",
       " [0, 0, 0, 0, 0],\n",
       " [0, 0, 0, 0, 0],\n",
       " [0, 0, 0, 0, 0],\n",
       " [0, 0, 0, 0, 0]]"
      ]
     },
     "execution_count": 17,
     "metadata": {},
     "output_type": "execute_result"
    }
   ],
   "source": [
    "N_Queens(5)"
   ]
  },
  {
   "cell_type": "code",
   "execution_count": 27,
   "metadata": {},
   "outputs": [],
   "source": [
    "n = 5\n",
    "res = [[0 for i in range(n)] for j in range(n)]\n",
    "res[3][4] = 1"
   ]
  },
  {
   "cell_type": "code",
   "execution_count": 30,
   "metadata": {},
   "outputs": [
    {
     "name": "stdout",
     "output_type": "stream",
     "text": [
      "3 4\n",
      "2 3\n",
      "1 2\n",
      "0 1\n",
      "-1 0\n"
     ]
    }
   ],
   "source": [
    "for i in range(len(res)):\n",
    "#    if (i-3) or (i-4) <0: break\n",
    "    print (3-i, 4-i)\n",
    "    res[3-i][4-i] = 9"
   ]
  },
  {
   "cell_type": "code",
   "execution_count": 31,
   "metadata": {},
   "outputs": [
    {
     "data": {
      "text/plain": [
       "[[0, 9, 0, 0, 0],\n",
       " [0, 0, 9, 0, 0],\n",
       " [0, 0, 0, 9, 0],\n",
       " [0, 0, 0, 0, 9],\n",
       " [9, 0, 0, 0, 0]]"
      ]
     },
     "execution_count": 31,
     "metadata": {},
     "output_type": "execute_result"
    }
   ],
   "source": [
    "res"
   ]
  },
  {
   "cell_type": "code",
   "execution_count": null,
   "metadata": {},
   "outputs": [],
   "source": []
  }
 ],
 "metadata": {
  "kernelspec": {
   "display_name": "Python 3",
   "language": "python",
   "name": "python3"
  },
  "language_info": {
   "codemirror_mode": {
    "name": "ipython",
    "version": 3
   },
   "file_extension": ".py",
   "mimetype": "text/x-python",
   "name": "python",
   "nbconvert_exporter": "python",
   "pygments_lexer": "ipython3",
   "version": "3.7.3"
  }
 },
 "nbformat": 4,
 "nbformat_minor": 2
}
