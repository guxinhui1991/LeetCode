{
 "cells": [
  {
   "cell_type": "code",
   "execution_count": 17,
   "metadata": {},
   "outputs": [
    {
     "data": {
      "text/plain": [
       "[8, 5, 5, 4, 3, 2, 1]"
      ]
     },
     "execution_count": 17,
     "metadata": {},
     "output_type": "execute_result"
    }
   ],
   "source": [
    "class Solution:\n",
    "    def searchRange(self, nums, target):\n",
    "        \"\"\"\n",
    "        :type nums: List[int]\n",
    "        :type target: int\n",
    "        :rtype: List[int]\n",
    "        \"\"\"\n",
    "        start = 0\n",
    "        end = len(nums)-1\n",
    "        \n",
    "        if len(nums)<1 or nums[start]>target or nums[end]<target:\n",
    "            return [-1,-1]\n",
    "        \n",
    "        while True:\n",
    "            if nums[start]<target:\n",
    "                start+=1\n",
    "            if nums[end]>target:\n",
    "                end-=1\n",
    "            if nums[start]==target and nums[end]==target:\n",
    "                break\n",
    "            if nums[start]>target or nums[end]<target or start>end:\n",
    "                start, end = -1, -1\n",
    "                break\n",
    "            \n",
    "        return [start, end]\n",
    "        "
   ]
  },
  {
   "cell_type": "code",
   "execution_count": 42,
   "metadata": {},
   "outputs": [],
   "source": [
    "class Solution:\n",
    "    def searchRange(self, nums, target):\n",
    "        \"\"\"\n",
    "        :type nums: List[int]\n",
    "        :type target: int\n",
    "        :rtype: List[int]\n",
    "        \"\"\"\n",
    "        l, r = 0, len(nums)-1\n",
    "        if len(nums)<1 or nums[l]>target or nums[r]<target:\n",
    "            return [-1,-1]\n",
    "        \n",
    "        while True:\n",
    "            print(l, '       ', r)\n",
    "            mid = (l+r)//2\n",
    "            if(nums[mid]<target):\n",
    "                l = mid+1\n",
    "                continue\n",
    "            elif(nums[mid]>target):\n",
    "                r = mid-1\n",
    "                continue\n",
    "            else:\n",
    "                l, r = mid, mid\n",
    "                while(nums[l]==target): l-=1\n",
    "                while(nums[r]==target): r+=1\n",
    "                \n",
    "                return [l+1, r-1]            \n",
    "        return [-1, -1]\n",
    "        "
   ]
  },
  {
   "cell_type": "code",
   "execution_count": 43,
   "metadata": {
    "collapsed": true
   },
   "outputs": [],
   "source": [
    "nums, target  = [1,2,3,4,5,5,8], 5"
   ]
  },
  {
   "cell_type": "code",
   "execution_count": 44,
   "metadata": {},
   "outputs": [
    {
     "name": "stdout",
     "output_type": "stream",
     "text": [
      "0         6\n",
      "4         6\n"
     ]
    },
    {
     "data": {
      "text/plain": [
       "[4, 5]"
      ]
     },
     "execution_count": 44,
     "metadata": {},
     "output_type": "execute_result"
    }
   ],
   "source": [
    "Solution().searchRange(nums, target)"
   ]
  },
  {
   "cell_type": "code",
   "execution_count": null,
   "metadata": {
    "collapsed": true
   },
   "outputs": [],
   "source": []
  }
 ],
 "metadata": {
  "kernelspec": {
   "display_name": "Python 3",
   "language": "python",
   "name": "python3"
  },
  "language_info": {
   "codemirror_mode": {
    "name": "ipython",
    "version": 3
   },
   "file_extension": ".py",
   "mimetype": "text/x-python",
   "name": "python",
   "nbconvert_exporter": "python",
   "pygments_lexer": "ipython3",
   "version": "3.6.3"
  }
 },
 "nbformat": 4,
 "nbformat_minor": 2
}
