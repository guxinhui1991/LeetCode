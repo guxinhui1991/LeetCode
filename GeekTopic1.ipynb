{
 "cells": [
  {
   "cell_type": "code",
   "execution_count": 2,
   "metadata": {},
   "outputs": [],
   "source": [
    "def subArraySum(arr, n, sum_target): \n",
    "      \n",
    "    # Pick a starting point \n",
    "    for i in range(n): \n",
    "        curr_sum = arr[i] \n",
    "      \n",
    "        # try all subarrays \n",
    "        # starting with 'i' \n",
    "        j = i+1\n",
    "        while j <= n: \n",
    "          \n",
    "            if curr_sum == sum_target:\n",
    "                print (\"Sum found between\") \n",
    "                print(\"indexes %d and %d\"%( i, j-1))       \n",
    "                return \n",
    "                  \n",
    "            if curr_sum > sum_target or j == n: \n",
    "                break\n",
    "              \n",
    "            curr_sum = curr_sum + arr[j] \n",
    "            j += 1\n",
    "  \n",
    "    print (\"No subarray found\") \n",
    "    return "
   ]
  },
  {
   "cell_type": "code",
   "execution_count": 5,
   "metadata": {},
   "outputs": [
    {
     "name": "stdout",
     "output_type": "stream",
     "text": [
      "Sum found between\n",
      "indexes 1 and 4\n"
     ]
    }
   ],
   "source": [
    "arr = [15, 2, 4, 8, 9, 5, 10, 23] \n",
    "n = len(arr) \n",
    "sum_target = 23\n",
    "  \n",
    "subArraySum(arr, n, sum_target)"
   ]
  },
  {
   "cell_type": "code",
   "execution_count": null,
   "metadata": {},
   "outputs": [],
   "source": []
  }
 ],
 "metadata": {
  "kernelspec": {
   "display_name": "Python 3",
   "language": "python",
   "name": "python3"
  },
  "language_info": {
   "codemirror_mode": {
    "name": "ipython",
    "version": 3
   },
   "file_extension": ".py",
   "mimetype": "text/x-python",
   "name": "python",
   "nbconvert_exporter": "python",
   "pygments_lexer": "ipython3",
   "version": "3.7.4"
  }
 },
 "nbformat": 4,
 "nbformat_minor": 2
}
