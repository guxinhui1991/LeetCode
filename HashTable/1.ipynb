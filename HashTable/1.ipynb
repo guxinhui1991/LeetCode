{
 "cells": [
  {
   "cell_type": "code",
   "execution_count": 1,
   "metadata": {
    "ExecuteTime": {
     "end_time": "2024-01-15T14:36:12.225469Z",
     "start_time": "2024-01-15T14:36:12.190564Z"
    }
   },
   "outputs": [],
   "source": [
    "class Solution(object):\n",
    "    def twoSum(self, nums, target):\n",
    "        \"\"\"\n",
    "        :type nums: List[int]\n",
    "        :type target: int\n",
    "        :rtype: List[int]\n",
    "        \"\"\"\n",
    "        l=len(nums)\n",
    "        pos1, pos2 = 0, 0\n",
    "        sol = [pos1, pos2]\n",
    "        for i in range(l):\n",
    "            for j in range(i+1, l):\n",
    "                if(target-nums[i] == nums[j]):\n",
    "                    sol[0] = i\n",
    "                    sol[1] = j\n",
    "                    return sol\n",
    "        return sol"
   ]
  },
  {
   "cell_type": "code",
   "execution_count": 2,
   "metadata": {
    "ExecuteTime": {
     "end_time": "2024-01-15T14:36:15.223079Z",
     "start_time": "2024-01-15T14:36:15.170399Z"
    }
   },
   "outputs": [
    {
     "data": {
      "text/plain": "[0, 1]"
     },
     "execution_count": 2,
     "metadata": {},
     "output_type": "execute_result"
    }
   ],
   "source": [
    "Solution().twoSum([2, 7, 11, 15], 9)"
   ]
  },
  {
   "cell_type": "code",
   "execution_count": 10,
   "metadata": {
    "ExecuteTime": {
     "end_time": "2024-01-15T14:35:40.853888Z",
     "start_time": "2024-01-15T14:35:40.838390Z"
    }
   },
   "outputs": [],
   "source": [
    "# Aug 20, 2019\n",
    "class Solution(object):\n",
    "    def twoSum(self, nums, target):\n",
    "        \"\"\"\n",
    "        :type nums: List[int]\n",
    "        :type target: int\n",
    "        :rtype: List[int]\n",
    "        \"\"\"\n",
    "        d = {}\n",
    "        \n",
    "        for i, n in enumerate(nums):\n",
    "            res = target - n\n",
    "            if n in d:\n",
    "                return [d[n], n]\n",
    "            else:\n",
    "                d[res] = n\n",
    "        return "
   ]
  },
  {
   "cell_type": "code",
   "execution_count": 5,
   "metadata": {
    "ExecuteTime": {
     "end_time": "2024-01-15T14:23:11.699380Z",
     "start_time": "2024-01-15T14:23:11.628357Z"
    }
   },
   "outputs": [
    {
     "data": {
      "text/plain": "[2, 7]"
     },
     "execution_count": 5,
     "metadata": {},
     "output_type": "execute_result"
    }
   ],
   "source": [
    "Solution().twoSum([2, 7, 11, 15], 9)"
   ]
  },
  {
   "cell_type": "code",
   "execution_count": 6,
   "metadata": {
    "ExecuteTime": {
     "end_time": "2024-01-15T14:23:12.006861Z",
     "start_time": "2024-01-15T14:23:11.934400Z"
    }
   },
   "outputs": [],
   "source": [
    "class Solution(object):\n",
    "    def twoSum(self, nums, target):\n",
    "        \"\"\"\n",
    "        :type nums: List[int]\n",
    "        :type target: int\n",
    "        :rtype: List[int]\n",
    "        \"\"\"\n",
    "        nums = sorted(enumerate(nums), key=lambda i:i[1])\n",
    "\n",
    "        l, r = 0, len(nums)-1\n",
    "        while l < r:\n",
    "            if nums[l][1] + nums[r][1] == target:\n",
    "                return[nums[l][0], nums[r][0]]\n",
    "            elif nums[l][1] + nums[r][1] < target:\n",
    "                l += 1\n",
    "            elif nums[l][1] + nums[r][1] > target:\n",
    "                r -= 1\n",
    "        \n",
    "        return[]\n",
    "            "
   ]
  },
  {
   "cell_type": "code",
   "execution_count": 7,
   "metadata": {
    "ExecuteTime": {
     "end_time": "2024-01-15T14:23:12.273811Z",
     "start_time": "2024-01-15T14:23:12.195171Z"
    }
   },
   "outputs": [
    {
     "data": {
      "text/plain": "[0, 1]"
     },
     "execution_count": 7,
     "metadata": {},
     "output_type": "execute_result"
    }
   ],
   "source": [
    "Solution().twoSum([2, 7, 11, 15], 9)"
   ]
  },
  {
   "cell_type": "code",
   "execution_count": null,
   "metadata": {
    "ExecuteTime": {
     "start_time": "2024-01-15T14:23:03.957614Z"
    }
   },
   "outputs": [],
   "source": []
  }
 ],
 "metadata": {
  "kernelspec": {
   "display_name": "Python 3 (ipykernel)",
   "language": "python",
   "name": "python3"
  },
  "language_info": {
   "codemirror_mode": {
    "name": "ipython",
    "version": 3
   },
   "file_extension": ".py",
   "mimetype": "text/x-python",
   "name": "python",
   "nbconvert_exporter": "python",
   "pygments_lexer": "ipython3",
   "version": "3.9.13"
  }
 },
 "nbformat": 4,
 "nbformat_minor": 2
}
