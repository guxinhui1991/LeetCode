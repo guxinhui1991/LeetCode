{
 "cells": [
  {
   "cell_type": "markdown",
   "source": [
    "##  Backtracking"
   ],
   "metadata": {
    "collapsed": false
   }
  },
  {
   "cell_type": "code",
   "outputs": [],
   "source": [
    "from typing import List\n",
    "\n",
    "\n",
    "class Solution:\n",
    "    def permute(self, nums: List[int]) -> List[List[int]]:\n",
    "        res = []\n",
    "        N = len(nums)\n",
    "        visited = [False for _ in range(N)]\n",
    "        cur = [0 for _ in range(N)]\n",
    "\n",
    "        def DFS(i):\n",
    "            if i == N : res.append(cur.copy())\n",
    "\n",
    "            for j in range(N):\n",
    "                if not visited[j]:\n",
    "                    visited[j] = True\n",
    "                    cur[j] = nums[i]\n",
    "                    DFS(i + 1)\n",
    "                    cur[j] = 0\n",
    "                    visited[j] = False\n",
    "\n",
    "        DFS(0)\n",
    "        return res"
   ],
   "metadata": {
    "collapsed": false,
    "ExecuteTime": {
     "end_time": "2024-01-21T20:55:39.991779Z",
     "start_time": "2024-01-21T20:55:39.987533Z"
    }
   },
   "execution_count": 10
  },
  {
   "cell_type": "code",
   "outputs": [],
   "source": [
    "class Solution:\n",
    "    def permute(self, nums: List[int]) -> List[List[int]]:\n",
    "        res = []\n",
    "        cur = []\n",
    "        N = len(nums)\n",
    "        visited = [False for _ in range(N)]\n",
    "\n",
    "        def DFS(i):\n",
    "            if i == N : res.append(cur.copy())\n",
    "\n",
    "            for j in range(N):\n",
    "                if not visited[j]:\n",
    "                    visited[j] = True\n",
    "                    cur.append(nums[j])\n",
    "                    DFS(i + 1)\n",
    "                    cur.pop()\n",
    "                    visited[j] = False\n",
    "\n",
    "        DFS(0)\n",
    "        return res"
   ],
   "metadata": {
    "collapsed": false
   }
  },
  {
   "cell_type": "code",
   "outputs": [
    {
     "data": {
      "text/plain": "[[1, 2, 3], [1, 3, 2], [2, 1, 3], [3, 1, 2], [2, 3, 1], [3, 2, 1]]"
     },
     "execution_count": 11,
     "metadata": {},
     "output_type": "execute_result"
    }
   ],
   "source": [
    "Solution().permute([1,2,3])"
   ],
   "metadata": {
    "collapsed": false,
    "ExecuteTime": {
     "end_time": "2024-01-21T20:55:50.618136Z",
     "start_time": "2024-01-21T20:55:50.612640Z"
    }
   },
   "execution_count": 11
  },
  {
   "cell_type": "markdown",
   "source": [
    "## Recursion - Same logic as backtracking"
   ],
   "metadata": {
    "collapsed": false
   }
  },
  {
   "cell_type": "code",
   "outputs": [],
   "source": [
    "class Solution:\n",
    "    def permute(self, nums):\n",
    "        \"\"\"\n",
    "        :type nums: List[int]\n",
    "        :rtype: List[List[int]]\n",
    "        \"\"\"\n",
    "        if len(nums)==0:\n",
    "            return [nums]\n",
    "        \n",
    "        if len(nums)==1:\n",
    "            return [nums]\n",
    "        \n",
    "        res = []\n",
    "        for i in range(len(nums)):\n",
    "            \n",
    "            val = nums[i]\n",
    "            for j in self.permute(nums[:i]+nums[(i+1):]):\n",
    "                res.append([val]+j)\n",
    "        \n",
    "        return res"
   ],
   "metadata": {
    "ExecuteTime": {
     "end_time": "2024-01-21T20:07:49.955351Z",
     "start_time": "2024-01-21T20:07:49.942619Z"
    }
   },
   "execution_count": 1
  },
  {
   "cell_type": "code",
   "outputs": [
    {
     "data": {
      "text/plain": "[[1, 2, 3], [1, 3, 2], [2, 1, 3], [2, 3, 1], [3, 1, 2], [3, 2, 1]]"
     },
     "execution_count": 2,
     "metadata": {},
     "output_type": "execute_result"
    }
   ],
   "source": [
    "Solution().permute([1,2,3])"
   ],
   "metadata": {
    "ExecuteTime": {
     "end_time": "2024-01-21T20:07:49.966589Z",
     "start_time": "2024-01-21T20:07:49.958265Z"
    }
   },
   "execution_count": 2
  },
  {
   "cell_type": "code",
   "outputs": [],
   "source": [
    "class Solution(object):\n",
    "    def permute(self, nums):\n",
    "        \"\"\"\n",
    "        :type nums: List[int]\n",
    "        :rtype: List[List[int]]\n",
    "        \"\"\"\n",
    "\n",
    "        if(len(nums)<=1): return [nums]\n",
    "\n",
    "        res = []\n",
    "        for i in range(len(nums)):\n",
    "            for arr in self.permute(nums[:i] + nums[i+1:]):\n",
    "                res.append([nums[i]] + arr)\n",
    "\n",
    "        return res"
   ],
   "metadata": {
    "ExecuteTime": {
     "end_time": "2024-01-21T20:07:49.990044Z",
     "start_time": "2024-01-21T20:07:49.966385Z"
    }
   },
   "execution_count": 3
  },
  {
   "cell_type": "code",
   "outputs": [
    {
     "data": {
      "text/plain": "[[1, 2, 3], [1, 3, 2], [2, 1, 3], [2, 3, 1], [3, 1, 2], [3, 2, 1]]"
     },
     "execution_count": 4,
     "metadata": {},
     "output_type": "execute_result"
    }
   ],
   "source": [
    "Solution().permute([1,2,3])"
   ],
   "metadata": {
    "ExecuteTime": {
     "end_time": "2024-01-21T20:07:49.991818Z",
     "start_time": "2024-01-21T20:07:49.974365Z"
    }
   },
   "execution_count": 4
  },
  {
   "cell_type": "markdown",
   "source": [
    "##  Recursive, take any number as first"
   ],
   "metadata": {}
  },
  {
   "cell_type": "code",
   "outputs": [],
   "source": [
    "def permute(self, nums):\n",
    "    return [[n] + p\n",
    "            for i, n in enumerate(nums)\n",
    "            for p in self.permute(nums[:i] + nums[i+1:])] or [[]]\n"
   ],
   "metadata": {
    "ExecuteTime": {
     "end_time": "2024-01-21T20:07:49.992634Z",
     "start_time": "2024-01-21T20:07:49.985896Z"
    }
   },
   "execution_count": 5
  },
  {
   "cell_type": "code",
   "outputs": [
    {
     "name": "stdout",
     "output_type": "stream",
     "text": [
      "0 a\n",
      "1 b\n",
      "2 c\n"
     ]
    }
   ],
   "source": [
    "testArr = [\"a\", \"b\",\"c\"]\n",
    "for i, n in enumerate(testArr):\n",
    "    print(i, n)\n"
   ],
   "metadata": {
    "ExecuteTime": {
     "end_time": "2024-01-21T20:07:50.034817Z",
     "start_time": "2024-01-21T20:07:49.991623Z"
    }
   },
   "execution_count": 6
  },
  {
   "cell_type": "markdown",
   "source": [
    "##  Recursive, insert first number anywhere"
   ],
   "metadata": {}
  },
  {
   "cell_type": "code",
   "outputs": [],
   "source": [
    "def permute(self, nums):\n",
    "    return nums and [p[:i] + [nums[0]] + p[i:]\n",
    "                     for p in self.permute(nums[1:])\n",
    "                     for i in range(len(nums))] or [[]]"
   ],
   "metadata": {
    "ExecuteTime": {
     "end_time": "2024-01-21T20:07:50.035750Z",
     "start_time": "2024-01-21T20:07:50.000640Z"
    }
   },
   "execution_count": 7
  },
  {
   "cell_type": "markdown",
   "source": [
    "## Reduce, insert next number anywhere"
   ],
   "metadata": {}
  },
  {
   "cell_type": "code",
   "outputs": [],
   "source": [
    "from functools import reduce\n",
    "\n",
    "\n",
    "def permute(self, nums):\n",
    "    return reduce(lambda P, n: [p[:i] + [n] + p[i:]\n",
    "                                for p in P for i in range(len(p)+1)],\n",
    "                  nums, [[]])\n"
   ],
   "metadata": {
    "ExecuteTime": {
     "end_time": "2024-01-21T20:07:50.036679Z",
     "start_time": "2024-01-21T20:07:50.008049Z"
    }
   },
   "execution_count": 8
  },
  {
   "cell_type": "markdown",
   "source": [
    "##  Using the library\n",
    "\n"
   ],
   "metadata": {}
  },
  {
   "cell_type": "code",
   "outputs": [],
   "source": [
    "import itertools\n",
    "\n",
    "\n",
    "def permute(self, nums):\n",
    "    return list(itertools.permutations(nums))"
   ],
   "metadata": {
    "ExecuteTime": {
     "end_time": "2024-01-21T20:07:50.037632Z",
     "start_time": "2024-01-21T20:07:50.014196Z"
    }
   },
   "execution_count": 9
  },
  {
   "cell_type": "code",
   "outputs": [],
   "source": [],
   "metadata": {
    "ExecuteTime": {
     "end_time": "2024-01-21T20:07:50.038350Z",
     "start_time": "2024-01-21T20:07:50.018823Z"
    }
   },
   "execution_count": 9
  }
 ],
 "metadata": {
  "kernelspec": {
   "display_name": "Python 3 (ipykernel)",
   "language": "python",
   "name": "python3"
  },
  "language_info": {
   "codemirror_mode": {
    "name": "ipython",
    "version": 3
   },
   "file_extension": ".py",
   "mimetype": "text/x-python",
   "name": "python",
   "nbconvert_exporter": "python",
   "pygments_lexer": "ipython3",
   "version": "3.9.13"
  }
 },
 "nbformat": 4,
 "nbformat_minor": 2
}
