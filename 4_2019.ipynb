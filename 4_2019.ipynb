{
 "cells": [
  {
   "cell_type": "code",
   "execution_count": 3,
   "metadata": {},
   "outputs": [],
   "source": [
    "def findMedianSortedArrays(self, nums1, nums2):\n",
    "    \"\"\"\n",
    "    :type nums1: List[int]\n",
    "    :type nums2: List[int]\n",
    "    :rtype: float\n",
    "    \"\"\"\n",
    "    m, n = len(nums1), len(nums2)\n",
    "    total_len = m + n\n",
    "    res = []\n",
    "    i, j = 0, 0\n",
    "    for its in range(total_len):\n",
    "        if i<m and j<n:\n",
    "            if(nums1[i]<nums2[j]):\n",
    "                res.append(nums1[i])\n",
    "                i+=1\n",
    "            else:\n",
    "                res.append(nums2[j])\n",
    "                j+=1\n",
    "\n",
    "        elif i==m:\n",
    "            res += nums2[j:]\n",
    "            break;\n",
    "\n",
    "        elif j==n:\n",
    "            res += nums1[i:]\n",
    "            break;\n",
    "\n",
    "    print(res)\n",
    "    if total_len%2:\n",
    "        return res[int(total_len/2)]\n",
    "    else:\n",
    "        return (res[int(total_len/2)-1]+res[int(total_len/2)])/2"
   ]
  },
  {
   "cell_type": "code",
   "execution_count": null,
   "metadata": {},
   "outputs": [],
   "source": []
  }
 ],
 "metadata": {
  "kernelspec": {
   "display_name": "Python 3",
   "language": "python",
   "name": "python3"
  },
  "language_info": {
   "codemirror_mode": {
    "name": "ipython",
    "version": 3
   },
   "file_extension": ".py",
   "mimetype": "text/x-python",
   "name": "python",
   "nbconvert_exporter": "python",
   "pygments_lexer": "ipython3",
   "version": "3.7.3"
  }
 },
 "nbformat": 4,
 "nbformat_minor": 2
}
