{
 "cells": [
  {
   "cell_type": "code",
   "execution_count": 19,
   "id": "ebf82a1a",
   "metadata": {},
   "outputs": [],
   "source": [
    "class Solution(object):\n",
    "    def majorityElement(self, nums):\n",
    "        \"\"\"\n",
    "        :type nums: List[int]\n",
    "        :rtype: int\n",
    "        \"\"\"\n",
    "        \n",
    "        return self.findElement(nums, 0, len(nums)-1)\n",
    "\n",
    "    def findElement(self, nums, l, r):\n",
    "        if (l == r): return nums[l]\n",
    "\n",
    "        m = l + (r-l) // 2\n",
    "\n",
    "        l_max= self.findElement(nums, l, m)\n",
    "        r_max= self.findElement(nums, m+1 , r)\n",
    "\n",
    "        if (l_max == r_max):\n",
    "            return l_max\n",
    "        else:\n",
    "            return l_max if nums.count(l_max) > nums.count(r_max) else r_max\n",
    "\n"
   ]
  },
  {
   "cell_type": "code",
   "execution_count": 20,
   "id": "9cff2b80",
   "metadata": {},
   "outputs": [
    {
     "data": {
      "text/plain": [
       "4"
      ]
     },
     "execution_count": 20,
     "metadata": {},
     "output_type": "execute_result"
    }
   ],
   "source": [
    "nums = [3,3,4]\n",
    "Solution().majorityElement(nums)"
   ]
  },
  {
   "cell_type": "code",
   "execution_count": null,
   "id": "0be74af2",
   "metadata": {},
   "outputs": [],
   "source": []
  },
  {
   "cell_type": "code",
   "execution_count": null,
   "id": "100361ef",
   "metadata": {},
   "outputs": [],
   "source": []
  }
 ],
 "metadata": {
  "kernelspec": {
   "display_name": "Python 3 (ipykernel)",
   "language": "python",
   "name": "python3"
  },
  "language_info": {
   "codemirror_mode": {
    "name": "ipython",
    "version": 3
   },
   "file_extension": ".py",
   "mimetype": "text/x-python",
   "name": "python",
   "nbconvert_exporter": "python",
   "pygments_lexer": "ipython3",
   "version": "3.9.13"
  }
 },
 "nbformat": 4,
 "nbformat_minor": 5
}
