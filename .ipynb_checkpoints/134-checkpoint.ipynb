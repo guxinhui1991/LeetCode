{
 "cells": [
  {
   "cell_type": "code",
   "execution_count": 43,
   "id": "ba13970b",
   "metadata": {},
   "outputs": [],
   "source": [
    "class Solution(object):\n",
    "    def canCompleteCircuit(self, gas, cost):\n",
    "        \"\"\"\n",
    "        :type gas: List[int]\n",
    "        :type cost: List[int]\n",
    "        :rtype: int\n",
    "        \"\"\"\n",
    "        \n",
    "        over = []\n",
    "        n = len(gas)\n",
    "        for i in range(n):\n",
    "            over.append(gas[i] - cost[i])\n",
    "        \n",
    "        if(sum(over) < 0): return -1\n",
    "        for i in range(n):\n",
    "            \n",
    "            nStops = 0\n",
    "            if over[i]<0: continue\n",
    "            tank = 0\n",
    "            for j in range(n):\n",
    "                tank += over[(i+j)%n]\n",
    "                nStops +=1\n",
    "                if(tank <0): break\n",
    "            if nStops == n: return i\n",
    "        return -1\n",
    "            "
   ]
  },
  {
   "cell_type": "code",
   "execution_count": 41,
   "id": "6d464815",
   "metadata": {},
   "outputs": [
    {
     "name": "stdout",
     "output_type": "stream",
     "text": [
      "[-2, -2, -2, 3, 3]\n",
      "0\n",
      "1\n",
      "2\n",
      "3\n",
      "tank:   3 1\n",
      "tank:   6 2\n",
      "tank:   4 3\n",
      "tank:   2 4\n",
      "tank:   0 5\n"
     ]
    },
    {
     "data": {
      "text/plain": [
       "3"
      ]
     },
     "execution_count": 41,
     "metadata": {},
     "output_type": "execute_result"
    }
   ],
   "source": [
    "gas = [1,2,3,4,5]\n",
    "cost = [3,4,5,1,2]\n",
    "Solution().canCompleteCircuit(gas, cost)"
   ]
  },
  {
   "cell_type": "code",
   "execution_count": 42,
   "id": "1c3ad890",
   "metadata": {},
   "outputs": [
    {
     "name": "stdout",
     "output_type": "stream",
     "text": [
      "[1, -3, 1, -2, 3]\n",
      "0\n",
      "tank:   1 1\n",
      "\n",
      "\n",
      "1\n",
      "2\n",
      "tank:   1 1\n",
      "\n",
      "\n",
      "3\n",
      "4\n",
      "tank:   3 1\n",
      "tank:   4 2\n",
      "tank:   1 3\n",
      "tank:   2 4\n",
      "tank:   0 5\n"
     ]
    },
    {
     "data": {
      "text/plain": [
       "4"
      ]
     },
     "execution_count": 42,
     "metadata": {},
     "output_type": "execute_result"
    }
   ],
   "source": [
    "gas = [5,1,2,3,4]\n",
    "\n",
    "cost = [4,4,1,5,1]\n",
    "\n",
    "Solution().canCompleteCircuit(gas, cost)"
   ]
  },
  {
   "cell_type": "markdown",
   "id": "e366e886",
   "metadata": {},
   "source": [
    "# Greedy"
   ]
  },
  {
   "cell_type": "code",
   "execution_count": 53,
   "id": "4cc7a99f",
   "metadata": {},
   "outputs": [],
   "source": [
    "class Solution(object):\n",
    "    def canCompleteCircuit(self, gas, cost):\n",
    "        \"\"\"\n",
    "        :type gas: List[int]\n",
    "        :type cost: List[int]\n",
    "        :rtype: int\n",
    "        \"\"\"\n",
    "        \n",
    "        over = []\n",
    "        n = len(gas)\n",
    "        for i in range(n):\n",
    "            over.append(gas[i] - cost[i])\n",
    "        \n",
    "        if(sum(over) < 0): return -1\n",
    "        \n",
    "        curSum = 0\n",
    "        start = 0\n",
    "        for i in range(n):\n",
    "            curSum += over[i]\n",
    "            \n",
    "            print('i:', i, ',  curSum: ', curSum)\n",
    "            if(curSum<0):\n",
    "                start = i+1\n",
    "                curSum=0\n",
    "                \n",
    "        return start\n",
    "            "
   ]
  },
  {
   "cell_type": "code",
   "execution_count": 54,
   "id": "2ae4b20f",
   "metadata": {},
   "outputs": [
    {
     "name": "stdout",
     "output_type": "stream",
     "text": [
      "i: 0 ,  curSum:  -2\n",
      "i: 1 ,  curSum:  -2\n",
      "i: 2 ,  curSum:  -2\n",
      "i: 3 ,  curSum:  3\n",
      "i: 4 ,  curSum:  6\n"
     ]
    },
    {
     "data": {
      "text/plain": [
       "3"
      ]
     },
     "execution_count": 54,
     "metadata": {},
     "output_type": "execute_result"
    }
   ],
   "source": [
    "gas = [1,2,3,4,5]\n",
    "cost = [3,4,5,1,2]\n",
    "Solution().canCompleteCircuit(gas, cost)"
   ]
  },
  {
   "cell_type": "markdown",
   "id": "1be9a3d5",
   "metadata": {},
   "source": [
    "Guaranteed unique solution so safe to skip 0, 1, 2\n",
    "\n",
    "if curSum > 0 at 3, then drop below 0 at point i (i>3), that means start from 3 is not possible [3, i]\n",
    "So need to restart from i+1"
   ]
  }
 ],
 "metadata": {
  "kernelspec": {
   "display_name": "Python 3 (ipykernel)",
   "language": "python",
   "name": "python3"
  },
  "language_info": {
   "codemirror_mode": {
    "name": "ipython",
    "version": 3
   },
   "file_extension": ".py",
   "mimetype": "text/x-python",
   "name": "python",
   "nbconvert_exporter": "python",
   "pygments_lexer": "ipython3",
   "version": "3.9.13"
  }
 },
 "nbformat": 4,
 "nbformat_minor": 5
}
