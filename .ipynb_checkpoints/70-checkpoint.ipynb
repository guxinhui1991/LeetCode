{
 "cells": [
  {
   "cell_type": "code",
   "execution_count": 1,
   "metadata": {},
   "outputs": [],
   "source": [
    "def climbStairs(n):\n",
    "    if n < 0: return\n",
    "    elif n < 2: return 1\n",
    "    elif n ==2: return 2\n",
    "\n",
    "    res = [0]*n\n",
    "    res[0], res[1] = 1, 2\n",
    "    for i in range(2, n):\n",
    "        res[i] = res[i-1] + res[i-2]\n",
    "    return res[-1]"
   ]
  },
  {
   "cell_type": "code",
   "execution_count": 15,
   "metadata": {},
   "outputs": [
    {
     "name": "stdout",
     "output_type": "stream",
     "text": [
      "5.1021575927734375e-05\n"
     ]
    }
   ],
   "source": [
    "import time\n",
    "start = time.time()\n",
    "climbStairs(20)\n",
    "print(time.time()-start)"
   ]
  },
  {
   "cell_type": "code",
   "execution_count": 8,
   "metadata": {},
   "outputs": [],
   "source": [
    "def climbStairs1(n):\n",
    "    if n < 0: return\n",
    "    elif n < 2: return 1\n",
    "    elif n ==2: return 2\n",
    "\n",
    "    return climbStairs1(n-1) + climbStairs1(n-2)"
   ]
  },
  {
   "cell_type": "code",
   "execution_count": 16,
   "metadata": {},
   "outputs": [
    {
     "name": "stdout",
     "output_type": "stream",
     "text": [
      "0.0026018619537353516\n"
     ]
    }
   ],
   "source": [
    "import time\n",
    "start = time.time()\n",
    "climbStairs1(20)\n",
    "print(time.time()-start)"
   ]
  },
  {
   "cell_type": "markdown",
   "metadata": {},
   "source": [
    "### Recursion"
   ]
  },
  {
   "cell_type": "code",
   "execution_count": 10,
   "metadata": {},
   "outputs": [],
   "source": [
    "class Solution1(object):\n",
    "    def climbStairs(self, n):\n",
    "        \"\"\"\n",
    "        :type n: int\n",
    "        :rtype: int\n",
    "        \"\"\"\n",
    "        if n == 1: return 1\n",
    "        if n == 2: return 2\n",
    "        return self.climbStairs(n-1) + self.climbStairs(n-2)"
   ]
  },
  {
   "cell_type": "markdown",
   "metadata": {},
   "source": [
    "### O(n)"
   ]
  },
  {
   "cell_type": "code",
   "execution_count": 11,
   "metadata": {},
   "outputs": [],
   "source": [
    "class Solution2(object):\n",
    "    def climbStairs(self, n):\n",
    "        \"\"\"\n",
    "        :type n: int\n",
    "        :rtype: int\n",
    "        \"\"\"\n",
    "        if n == 1: return 1\n",
    "        if n == 2: return 2\n",
    "        dp = [0]*n\n",
    "        dp[0] = 1\n",
    "        dp[1] = 2\n",
    "        for i in range(2, n):\n",
    "            dp[i] = dp[i-1] + dp[i-2]\n",
    "        return dp[-1]"
   ]
  },
  {
   "cell_type": "code",
   "execution_count": 13,
   "metadata": {},
   "outputs": [
    {
     "name": "stdout",
     "output_type": "stream",
     "text": [
      "3\n",
      "0.00038814544677734375\n",
      "3\n",
      "7.915496826171875e-05\n"
     ]
    }
   ],
   "source": [
    "import time\n",
    "\n",
    "n=3\n",
    "\n",
    "start = time.time()\n",
    "print(Solution1().climbStairs(n))\n",
    "print(time.time()-start)\n",
    "start = time.time()\n",
    "print(Solution2().climbStairs(n))\n",
    "print(time.time()-start)"
   ]
  },
  {
   "cell_type": "code",
   "execution_count": 15,
   "metadata": {},
   "outputs": [
    {
     "name": "stdout",
     "output_type": "stream",
     "text": [
      "10946\n",
      "0.002599000930786133\n",
      "10946\n",
      "8.487701416015625e-05\n"
     ]
    }
   ],
   "source": [
    "n=20\n",
    "\n",
    "start = time.time()\n",
    "print(Solution1().climbStairs(n))\n",
    "print(time.time()-start)\n",
    "start = time.time()\n",
    "print(Solution2().climbStairs(n))\n",
    "print(time.time()-start)"
   ]
  },
  {
   "cell_type": "code",
   "execution_count": 18,
   "metadata": {},
   "outputs": [
    {
     "name": "stdout",
     "output_type": "stream",
     "text": [
      "165580141\n",
      "25.747097969055176\n",
      "165580141\n",
      "6.508827209472656e-05\n"
     ]
    }
   ],
   "source": [
    "n=40\n",
    "\n",
    "start = time.time()\n",
    "print(Solution1().climbStairs(n))\n",
    "print(time.time()-start)\n",
    "start = time.time()\n",
    "print(Solution2().climbStairs(n))\n",
    "print(time.time()-start)"
   ]
  },
  {
   "cell_type": "code",
   "execution_count": null,
   "metadata": {},
   "outputs": [],
   "source": []
  }
 ],
 "metadata": {
  "kernelspec": {
   "display_name": "Python 3 (ipykernel)",
   "language": "python",
   "name": "python3"
  },
  "language_info": {
   "codemirror_mode": {
    "name": "ipython",
    "version": 3
   },
   "file_extension": ".py",
   "mimetype": "text/x-python",
   "name": "python",
   "nbconvert_exporter": "python",
   "pygments_lexer": "ipython3",
   "version": "3.9.13"
  }
 },
 "nbformat": 4,
 "nbformat_minor": 2
}
