{
 "cells": [
  {
   "cell_type": "code",
   "execution_count": 1,
   "id": "8bf506ab",
   "metadata": {},
   "outputs": [],
   "source": [
    "class Solution(object):\n",
    "    def numTilePossibilities(self, tiles):\n",
    "        \"\"\"\n",
    "        :type tiles: str\n",
    "        :rtype: int\n",
    "        \"\"\"\n",
    "        n = len(tiles)\n",
    "        n_unique = set(tiles)\n",
    "        \n",
    "        n_dict = {}\n",
    "\n",
    "        for i in n_unique:\n",
    "            n_dict[i] = tiles.count(i)\n",
    "    \n",
    "        count = len(n_unique)\n",
    "        for i in range(2, n):\n",
    "            "
   ]
  },
  {
   "cell_type": "code",
   "execution_count": 2,
   "id": "da413dd2",
   "metadata": {},
   "outputs": [],
   "source": [
    "tiles = \"AAABBC\"\n",
    "Solution().numTilePossibilities(tiles)"
   ]
  },
  {
   "cell_type": "code",
   "execution_count": 5,
   "id": "6f3ad68d",
   "metadata": {},
   "outputs": [],
   "source": [
    "n = len(tiles)\n",
    "n_unique = set(tiles)\n",
    "n_dict = {}\n",
    "\n",
    "for i in n_unique:\n",
    "    n_dict[i] = tiles.count(i)\n",
    "\n",
    "count = len(n_unique)\n",
    "for i in range(2, n):\n",
    "    "
   ]
  },
  {
   "cell_type": "code",
   "execution_count": 6,
   "id": "248d0b93",
   "metadata": {},
   "outputs": [
    {
     "data": {
      "text/plain": [
       "{'A': 3, 'B': 2, 'C': 1}"
      ]
     },
     "execution_count": 6,
     "metadata": {},
     "output_type": "execute_result"
    }
   ],
   "source": [
    "n_dict"
   ]
  },
  {
   "cell_type": "code",
   "execution_count": null,
   "id": "67b582a2",
   "metadata": {},
   "outputs": [],
   "source": []
  }
 ],
 "metadata": {
  "kernelspec": {
   "display_name": "Python 3 (ipykernel)",
   "language": "python",
   "name": "python3"
  },
  "language_info": {
   "codemirror_mode": {
    "name": "ipython",
    "version": 3
   },
   "file_extension": ".py",
   "mimetype": "text/x-python",
   "name": "python",
   "nbconvert_exporter": "python",
   "pygments_lexer": "ipython3",
   "version": "3.9.13"
  }
 },
 "nbformat": 4,
 "nbformat_minor": 5
}
