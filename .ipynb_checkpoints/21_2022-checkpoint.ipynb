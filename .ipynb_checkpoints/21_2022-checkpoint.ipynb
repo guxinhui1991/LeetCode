{
 "cells": [
  {
   "cell_type": "code",
   "execution_count": 12,
   "id": "2fbe4014",
   "metadata": {},
   "outputs": [],
   "source": [
    "# Definition for singly-linked list.\n",
    "class ListNode(object):\n",
    "    def __init__(self, val=0, next=None):\n",
    "        self.val = val\n",
    "        self.next = next\n",
    "\n",
    "class Solution(object):\n",
    "    def mergeTwoLists(self, list1, list2):\n",
    "        \"\"\"\n",
    "        :type list1: Optional[ListNode]\n",
    "        :type list2: Optional[ListNode]\n",
    "        :rtype: Optional[ListNode]\n",
    "        \"\"\"\n",
    "        \n",
    "        if not list1: return list2\n",
    "        if not list2: return list1\n",
    "    \n",
    "        res = ListNode()\n",
    "        while not list1.next or not list2.next:\n",
    "            if list1.val < list2.val:\n",
    "                res.next = list1\n",
    "                list1 = list1.next\n",
    "            else:\n",
    "                res.next = list2\n",
    "                list2 = list2.next\n",
    "        return res\n",
    "    \n",
    "    \n"
   ]
  },
  {
   "cell_type": "code",
   "execution_count": 19,
   "id": "3f65076c",
   "metadata": {},
   "outputs": [],
   "source": [
    "\n",
    "# Definition for singly-linked list.\n",
    "class ListNode(object):\n",
    "    def __init__(self, val=0, next=None):\n",
    "        self.val = val\n",
    "        self.next = next\n",
    "\n",
    "class Solution:\n",
    "    def mergeTwoLists(self, a, b):\n",
    "        if a and b:\n",
    "            if a.val > b.val:\n",
    "                a, b = b, a\n",
    "            a.next = self.mergeTwoLists(a.next, b)\n",
    "        return a or b"
   ]
  },
  {
   "cell_type": "code",
   "execution_count": 20,
   "id": "c5643b50",
   "metadata": {},
   "outputs": [],
   "source": [
    "list1 = [1,2,4]\n",
    "list2 = [1,3,4]"
   ]
  },
  {
   "cell_type": "code",
   "execution_count": null,
   "id": "d7fe5e8a",
   "metadata": {},
   "outputs": [],
   "source": []
  },
  {
   "cell_type": "code",
   "execution_count": null,
   "id": "da0b8e6b",
   "metadata": {},
   "outputs": [],
   "source": []
  },
  {
   "cell_type": "code",
   "execution_count": null,
   "id": "248dd0c9",
   "metadata": {},
   "outputs": [],
   "source": []
  }
 ],
 "metadata": {
  "kernelspec": {
   "display_name": "Python 3 (ipykernel)",
   "language": "python",
   "name": "python3"
  },
  "language_info": {
   "codemirror_mode": {
    "name": "ipython",
    "version": 3
   },
   "file_extension": ".py",
   "mimetype": "text/x-python",
   "name": "python",
   "nbconvert_exporter": "python",
   "pygments_lexer": "ipython3",
   "version": "3.9.13"
  }
 },
 "nbformat": 4,
 "nbformat_minor": 5
}
