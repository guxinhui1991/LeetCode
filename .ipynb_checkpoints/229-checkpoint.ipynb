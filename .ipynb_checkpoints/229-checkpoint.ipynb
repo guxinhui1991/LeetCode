{
 "cells": [
  {
   "cell_type": "code",
   "execution_count": 27,
   "metadata": {},
   "outputs": [],
   "source": [
    "class Solution():\n",
    "    def majorityElement(self, nums):\n",
    "        criteria = len(nums)/3\n",
    "        if not nums: return []\n",
    "        candidate1, candidate2, count1, count2 = 0,0,0,0\n",
    "        \n",
    "        for i in nums:\n",
    "            if i==candidate1: count1+=1\n",
    "            elif i==candidate2: count2+=1\n",
    "            elif count1==0: candidate1, count1 = i, 1\n",
    "            elif count2==0: candidate2, count2 = i, 1\n",
    "            else: count1, count2, = count1-1, count2-1\n",
    "        \n",
    "        return [i for i in (candidate1, candidate2) if nums.count(i)>criteria]\n",
    "            "
   ]
  },
  {
   "cell_type": "code",
   "execution_count": 28,
   "metadata": {},
   "outputs": [],
   "source": [
    "nums = [1,1,1,3,3,2,2,2]"
   ]
  },
  {
   "cell_type": "code",
   "execution_count": 29,
   "metadata": {},
   "outputs": [
    {
     "data": {
      "text/plain": [
       "[1, 2]"
      ]
     },
     "execution_count": 29,
     "metadata": {},
     "output_type": "execute_result"
    }
   ],
   "source": [
    "Solution().majorityElement(nums)"
   ]
  },
  {
   "cell_type": "markdown",
   "metadata": {},
   "source": [
    "## Moore's Voting Algorithm\n"
   ]
  },
  {
   "cell_type": "code",
   "execution_count": 24,
   "metadata": {},
   "outputs": [],
   "source": [
    "# Function to find the candidate for Majority\n",
    "def findCandidate(A):\n",
    "    maj_index = 0\n",
    "    count = 1\n",
    "    for i in range(len(A)):\n",
    "        if A[maj_index] == A[i]:\n",
    "            count += 1\n",
    "        else:\n",
    "            count -= 1\n",
    "        if count == 0:\n",
    "            maj_index = i\n",
    "            count = 1\n",
    "    return A[maj_index]\n",
    " \n",
    "# Function to check if the candidate occurs more than n/2 times\n",
    "def isMajority(A, cand):\n",
    "    count = 0\n",
    "    for i in range(len(A)):\n",
    "        if A[i] == cand:\n",
    "            count += 1\n",
    "    if count > len(A)/2:\n",
    "        return True\n",
    "    else:\n",
    "        return False\n",
    " \n",
    "# Function to print Majority Element\n",
    "def printMajority(A):\n",
    "    # Find the candidate for Majority\n",
    "    cand = findCandidate(A)\n",
    "    \n",
    "\n",
    "    # Print the candidate if it is Majority\n",
    "    if isMajority(A, cand) == True:\n",
    "        print(cand)\n",
    "    else:\n",
    "        print(\"No Majority Element\")\n"
   ]
  },
  {
   "cell_type": "code",
   "execution_count": 25,
   "metadata": {},
   "outputs": [
    {
     "data": {
      "text/plain": [
       "2"
      ]
     },
     "execution_count": 25,
     "metadata": {},
     "output_type": "execute_result"
    }
   ],
   "source": [
    "findCandidate(A)"
   ]
  },
  {
   "cell_type": "code",
   "execution_count": 26,
   "metadata": {},
   "outputs": [
    {
     "name": "stdout",
     "output_type": "stream",
     "text": [
      "No Majority Element\n"
     ]
    }
   ],
   "source": [
    "# Driver program to test above functions\n",
    "A = [2,2,2,3,3,4]\n",
    "printMajority(A)"
   ]
  },
  {
   "cell_type": "code",
   "execution_count": null,
   "metadata": {},
   "outputs": [],
   "source": []
  }
 ],
 "metadata": {
  "kernelspec": {
   "display_name": "Python 3",
   "language": "python",
   "name": "python3"
  },
  "language_info": {
   "codemirror_mode": {
    "name": "ipython",
    "version": 3
   },
   "file_extension": ".py",
   "mimetype": "text/x-python",
   "name": "python",
   "nbconvert_exporter": "python",
   "pygments_lexer": "ipython3",
   "version": "3.6.3"
  }
 },
 "nbformat": 4,
 "nbformat_minor": 2
}
