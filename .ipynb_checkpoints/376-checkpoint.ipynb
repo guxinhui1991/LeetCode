{
 "cells": [
  {
   "cell_type": "code",
   "execution_count": 1,
   "id": "7705eec8",
   "metadata": {},
   "outputs": [],
   "source": [
    "class Solution(object):\n",
    "    def wiggleMaxLength(self, nums):\n",
    "        \"\"\"\n",
    "        :type nums: List[int]\n",
    "        :rtype: int\n",
    "        \"\"\"\n",
    "        N = len(nums)\n",
    "        for i in range(N-2):\n",
    "            if (nums[i+1]-nums[i])*(nums[i+2]-nums[i+1]) < 0:\n",
    "                i = i + 2\n",
    "            "
   ]
  },
  {
   "cell_type": "code",
   "execution_count": 2,
   "id": "448cd85d",
   "metadata": {},
   "outputs": [],
   "source": [
    "nums=[1, 7, 4, 9, 2, 5]"
   ]
  },
  {
   "cell_type": "code",
   "execution_count": 24,
   "id": "329335a6",
   "metadata": {},
   "outputs": [
    {
     "data": {
      "text/plain": [
       "[1, 1, 1, 1]"
      ]
     },
     "execution_count": 24,
     "metadata": {},
     "output_type": "execute_result"
    }
   ],
   "source": [
    "diff2"
   ]
  },
  {
   "cell_type": "code",
   "execution_count": null,
   "id": "16d2cf9d",
   "metadata": {},
   "outputs": [],
   "source": []
  }
 ],
 "metadata": {
  "kernelspec": {
   "display_name": "Python 3 (ipykernel)",
   "language": "python",
   "name": "python3"
  },
  "language_info": {
   "codemirror_mode": {
    "name": "ipython",
    "version": 3
   },
   "file_extension": ".py",
   "mimetype": "text/x-python",
   "name": "python",
   "nbconvert_exporter": "python",
   "pygments_lexer": "ipython3",
   "version": "3.9.13"
  }
 },
 "nbformat": 4,
 "nbformat_minor": 5
}
