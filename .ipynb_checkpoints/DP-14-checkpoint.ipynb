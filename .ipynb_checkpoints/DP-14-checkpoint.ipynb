{
 "cells": [
  {
   "cell_type": "code",
   "execution_count": 2,
   "metadata": {},
   "outputs": [],
   "source": [
    "# Dynamic Programming bsed Python  \n",
    "# implementation of Maximum Sum  \n",
    "# Increasing Subsequence (MSIS) \n",
    "# problem \n",
    "  \n",
    "# maxSumIS() returns the maximum  \n",
    "# sum of increasing subsequence  \n",
    "# in arr[] of size n \n",
    "\n",
    "\n",
    "def maxSumIS(arr, n):\n",
    "    \n",
    "    if \n",
    "    \n",
    "\n",
    "    return "
   ]
  },
  {
   "cell_type": "code",
   "execution_count": null,
   "metadata": {},
   "outputs": [],
   "source": []
  }
 ],
 "metadata": {
  "kernelspec": {
   "display_name": "Python 3 (ipykernel)",
   "language": "python",
   "name": "python3"
  },
  "language_info": {
   "codemirror_mode": {
    "name": "ipython",
    "version": 3
   },
   "file_extension": ".py",
   "mimetype": "text/x-python",
   "name": "python",
   "nbconvert_exporter": "python",
   "pygments_lexer": "ipython3",
   "version": "3.9.13"
  }
 },
 "nbformat": 4,
 "nbformat_minor": 2
}
