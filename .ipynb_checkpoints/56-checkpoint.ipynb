{
 "cells": [
  {
   "cell_type": "code",
   "execution_count": 1,
   "id": "physical-jordan",
   "metadata": {},
   "outputs": [
    {
     "name": "stdout",
     "output_type": "stream",
     "text": [
      "None\n"
     ]
    }
   ],
   "source": [
    "def myFunc(e):\n",
    "    return e[0]\n",
    "test1 = [[1,3],[2,6],[8,10],[15,18]]\n",
    "\n",
    "print(test1.sort(reverse=False, key=myFunc))"
   ]
  },
  {
   "cell_type": "code",
   "execution_count": 4,
   "id": "handed-plate",
   "metadata": {},
   "outputs": [],
   "source": [
    "class Solution(object):\n",
    "\n",
    "    def insertRes(self, inlist, res):\n",
    "        inL = inlist[0]\n",
    "        inR = inlist[1]\n",
    "\n",
    "        if not res : return [inlist]\n",
    "        if inlist[0] > res[-1][1]:\n",
    "            res.append(inlist)\n",
    "            return res\n",
    "        if inlist[1] < res[0][0]:\n",
    "            inlist.append(res)\n",
    "            return inlist\n",
    "\n",
    "        for i, curPair in enumerate(res):\n",
    "\n",
    "            if curPair[1] >= inlist[0] >= curPair[0]:\n",
    "                res[i] = [curPair[0], max(curPair[1], inlist[1])]\n",
    "                return res\n",
    "\n",
    "        return res\n",
    "\n",
    "    def merge(self, intervals):\n",
    "        \"\"\"\n",
    "        :type intervals: List[List[int]]\n",
    "        :rtype: List[List[int]]\n",
    "        \"\"\"\n",
    "\n",
    "        if not intervals: return []\n",
    "\n",
    "        def myFunc(e):\n",
    "            return e[0]\n",
    "\n",
    "        intervals.sort(reverse=False, key=myFunc)\n",
    "\n",
    "        res = [intervals[0]]\n",
    "\n",
    "        for inList in intervals[1:]:\n",
    "            res = self.insertRes(inList, res)\n",
    "        return res\n",
    "\n"
   ]
  },
  {
   "cell_type": "code",
   "execution_count": null,
   "id": "major-israeli",
   "metadata": {},
   "outputs": [],
   "source": []
  },
  {
   "cell_type": "code",
   "execution_count": 5,
   "id": "warming-tongue",
   "metadata": {},
   "outputs": [
    {
     "name": "stdout",
     "output_type": "stream",
     "text": [
      "[[1, 3]]\n",
      "[[1, 3], [8, 10]]\n",
      "[[1, 3], [8, 10], [15, 18]]\n"
     ]
    },
    {
     "data": {
      "text/plain": [
       "[[1, 3], [8, 10], [15, 18]]"
      ]
     },
     "execution_count": 5,
     "metadata": {},
     "output_type": "execute_result"
    }
   ],
   "source": [
    "test1 =[[1,3],[2,6],[8,10],[15,18]]\n",
    "test2 = [[2,3],[2,2],[3,3],[1,3],[5,7],[2,2],[4,6]]\n",
    "Solution().merge(test1)"
   ]
  },
  {
   "cell_type": "code",
   "execution_count": null,
   "id": "lined-request",
   "metadata": {},
   "outputs": [],
   "source": []
  },
  {
   "cell_type": "code",
   "execution_count": 53,
   "id": "hairy-actress",
   "metadata": {},
   "outputs": [],
   "source": [
    "test1.insert(0, [1,1])"
   ]
  },
  {
   "cell_type": "code",
   "execution_count": 43,
   "id": "measured-identifier",
   "metadata": {},
   "outputs": [
    {
     "data": {
      "text/plain": [
       "[[1, 1], [1, 1], [1, 3], [2, 6], [8, 10], [15, 18]]"
      ]
     },
     "execution_count": 43,
     "metadata": {},
     "output_type": "execute_result"
    }
   ],
   "source": [
    "test1"
   ]
  },
  {
   "cell_type": "code",
   "execution_count": null,
   "id": "located-partner",
   "metadata": {},
   "outputs": [],
   "source": []
  }
 ],
 "metadata": {
  "kernelspec": {
   "display_name": "Python 3 (ipykernel)",
   "language": "python",
   "name": "python3"
  },
  "language_info": {
   "codemirror_mode": {
    "name": "ipython",
    "version": 3
   },
   "file_extension": ".py",
   "mimetype": "text/x-python",
   "name": "python",
   "nbconvert_exporter": "python",
   "pygments_lexer": "ipython3",
   "version": "3.9.13"
  }
 },
 "nbformat": 4,
 "nbformat_minor": 5
}
