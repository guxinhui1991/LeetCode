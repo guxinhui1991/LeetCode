{
 "cells": [
  {
   "cell_type": "code",
   "execution_count": 47,
   "metadata": {},
   "outputs": [],
   "source": [
    "class Solution:\n",
    "    def jump(self, nums):\n",
    "        res = 0\n",
    "        n = len(nums)\n",
    "        last, cur = 0, 0\n",
    "        \n",
    "        for i in range(n-1):\n",
    "            cur = max(cur, i+nums[i])\n",
    "            if i == last:\n",
    "                last = cur\n",
    "                res+=1\n",
    "                if cur>n-1: break\n",
    "            print(i, last, cur, res)\n",
    "                    \n",
    "        return res\n",
    "        "
   ]
  },
  {
   "cell_type": "code",
   "execution_count": 33,
   "metadata": {},
   "outputs": [
    {
     "name": "stdout",
     "output_type": "stream",
     "text": [
      "0 2 2\n",
      "1 2 4\n",
      "2 4 4\n",
      "3 4 4\n"
     ]
    },
    {
     "data": {
      "text/plain": [
       "2"
      ]
     },
     "execution_count": 33,
     "metadata": {},
     "output_type": "execute_result"
    }
   ],
   "source": [
    "Solution().jump([2,3,1,1,4])"
   ]
  },
  {
   "cell_type": "code",
   "execution_count": 48,
   "metadata": {},
   "outputs": [
    {
     "name": "stdout",
     "output_type": "stream",
     "text": [
      "0 6 6 1\n",
      "1 6 6 1\n",
      "2 6 8 1\n",
      "3 6 8 1\n",
      "4 6 11 1\n",
      "5 6 14 1\n",
      "6 14 14 2\n",
      "7 14 14 2\n",
      "8 14 14 2\n",
      "9 14 16 2\n",
      "10 14 16 2\n",
      "11 14 19 2\n",
      "12 14 21 2\n",
      "13 14 21 2\n",
      "14 21 21 3\n",
      "15 21 22 3\n",
      "16 21 22 3\n",
      "17 21 22 3\n",
      "18 21 26 3\n",
      "19 21 26 3\n",
      "20 21 26 3\n"
     ]
    },
    {
     "data": {
      "text/plain": [
       "4"
      ]
     },
     "execution_count": 48,
     "metadata": {},
     "output_type": "execute_result"
    }
   ],
   "source": [
    "Solution().jump([6,2,6,1,7,9,3,5,3,7,2,8,9,4,7,7,2,2,8,4,6,6,1,3])"
   ]
  },
  {
   "cell_type": "code",
   "execution_count": 45,
   "metadata": {},
   "outputs": [
    {
     "name": "stdout",
     "output_type": "stream",
     "text": [
      "0 5 5\n",
      "1 5 7\n",
      "2 5 7\n",
      "3 5 7\n",
      "4 5 13\n",
      "5 13 13\n",
      "6 13 13\n",
      "7 13 13\n",
      "8 13 13\n",
      "9 13 17\n",
      "10 13 17\n",
      "11 13 17\n",
      "12 13 20\n",
      "13 20 20\n",
      "14 20 23\n",
      "15 20 23\n",
      "16 20 23\n",
      "17 20 26\n",
      "18 20 26\n",
      "19 20 26\n",
      "20 26 26\n",
      "21 26 30\n",
      "22 26 30\n",
      "23 26 30\n",
      "24 26 30\n",
      "25 26 30\n"
     ]
    },
    {
     "data": {
      "text/plain": [
       "5"
      ]
     },
     "execution_count": 45,
     "metadata": {},
     "output_type": "execute_result"
    }
   ],
   "source": [
    "Solution().jump([5,6,5,3,9,8,3,1,2,8,2,4,8,3,9,1,0,9,4,6,5,9,8,7,4,2,1,0,2])"
   ]
  },
  {
   "cell_type": "code",
   "execution_count": 54,
   "metadata": {},
   "outputs": [],
   "source": [
    "class Solution2(object):\n",
    "    def jump(self, nums):\n",
    "        \"\"\"\n",
    "        :type nums: List[int]\n",
    "        :rtype: int\n",
    "        \"\"\"\n",
    "        \n",
    "        N = len(nums)\n",
    "        maxReach = nums[0]\n",
    "        curReach = nums[0]\n",
    "        res = 1\n",
    "        for i in range(1, N):\n",
    "            \n",
    "            curReach = i + nums[i]\n",
    "            if i == maxReach:\n",
    "                res+=1\n",
    "                maxReach = curReach\n",
    "            print(i, curReach, maxReach, res)\n",
    "\n",
    "            if curReach >= N -1: return res\n",
    "            \n",
    "        \n",
    "        return"
   ]
  },
  {
   "cell_type": "code",
   "execution_count": 55,
   "metadata": {},
   "outputs": [
    {
     "name": "stdout",
     "output_type": "stream",
     "text": [
      "1 2 4 1\n",
      "2 3 4 1\n",
      "3 6 4 1\n"
     ]
    },
    {
     "data": {
      "text/plain": [
       "1"
      ]
     },
     "execution_count": 55,
     "metadata": {},
     "output_type": "execute_result"
    }
   ],
   "source": [
    "nums = [4,1,1,3,1,1,1]\n",
    "Solution2().jump(nums)"
   ]
  },
  {
   "cell_type": "code",
   "execution_count": 56,
   "metadata": {},
   "outputs": [
    {
     "name": "stdout",
     "output_type": "stream",
     "text": [
      "1 4 2 1\n"
     ]
    },
    {
     "data": {
      "text/plain": [
       "1"
      ]
     },
     "execution_count": 56,
     "metadata": {},
     "output_type": "execute_result"
    }
   ],
   "source": [
    "Solution2().jump([2,3,1,1,4])"
   ]
  },
  {
   "cell_type": "code",
   "execution_count": 57,
   "metadata": {},
   "outputs": [
    {
     "name": "stdout",
     "output_type": "stream",
     "text": [
      "1 7 5 1\n",
      "2 7 5 1\n",
      "3 6 5 1\n",
      "4 13 5 1\n",
      "5 13 13 2\n",
      "6 9 13 2\n",
      "7 8 13 2\n",
      "8 10 13 2\n",
      "9 17 13 2\n",
      "10 12 13 2\n",
      "11 15 13 2\n",
      "12 20 13 2\n",
      "13 16 16 3\n",
      "14 23 16 3\n",
      "15 16 16 3\n",
      "16 16 16 4\n",
      "17 26 16 4\n",
      "18 22 16 4\n",
      "19 25 16 4\n",
      "20 25 16 4\n",
      "21 30 16 4\n"
     ]
    },
    {
     "data": {
      "text/plain": [
       "4"
      ]
     },
     "execution_count": 57,
     "metadata": {},
     "output_type": "execute_result"
    }
   ],
   "source": [
    "Solution2().jump([5,6,5,3,9,8,3,1,2,8,2,4,8,3,9,1,0,9,4,6,5,9,8,7,4,2,1,0,2])"
   ]
  },
  {
   "cell_type": "code",
   "execution_count": null,
   "metadata": {},
   "outputs": [],
   "source": []
  }
 ],
 "metadata": {
  "kernelspec": {
   "display_name": "Python 3 (ipykernel)",
   "language": "python",
   "name": "python3"
  },
  "language_info": {
   "codemirror_mode": {
    "name": "ipython",
    "version": 3
   },
   "file_extension": ".py",
   "mimetype": "text/x-python",
   "name": "python",
   "nbconvert_exporter": "python",
   "pygments_lexer": "ipython3",
   "version": "3.9.13"
  }
 },
 "nbformat": 4,
 "nbformat_minor": 2
}
