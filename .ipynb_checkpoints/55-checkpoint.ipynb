{
 "cells": [
  {
   "cell_type": "code",
   "execution_count": 2,
   "id": "aab1b75d",
   "metadata": {},
   "outputs": [],
   "source": [
    "# Version 2018\n",
    "class Solution(object):\n",
    "    def canJump(self, nums):\n",
    "        stepsLeft = nums[0]\n",
    "\n",
    "        if not stepsLeft and len(nums) > 1:\n",
    "            return False\n",
    "\n",
    "        for num in nums[1:-1]:\n",
    "            stepsLeft = max(stepsLeft - 1, num)\n",
    "            if not stepsLeft:\n",
    "                return False\n",
    "\n",
    "        return True"
   ]
  },
  {
   "cell_type": "code",
   "execution_count": null,
   "id": "cdc5bfde",
   "metadata": {},
   "outputs": [],
   "source": []
  }
 ],
 "metadata": {
  "kernelspec": {
   "display_name": "Python 3 (ipykernel)",
   "language": "python",
   "name": "python3"
  },
  "language_info": {
   "codemirror_mode": {
    "name": "ipython",
    "version": 3
   },
   "file_extension": ".py",
   "mimetype": "text/x-python",
   "name": "python",
   "nbconvert_exporter": "python",
   "pygments_lexer": "ipython3",
   "version": "3.9.13"
  }
 },
 "nbformat": 4,
 "nbformat_minor": 5
}
