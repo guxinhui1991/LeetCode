{
 "cells": [
  {
   "cell_type": "code",
   "execution_count": null,
   "id": "legal-cedar",
   "metadata": {},
   "outputs": [],
   "source": [
    "class Solution(object):\n",
    "    def threeSumClosest(self, nums, target):\n",
    "        \"\"\"\n",
    "        :type nums: List[int]\n",
    "        :type target: int\n",
    "        :rtype: int\n",
    "        \"\"\"\n",
    "        nums.sort()\n",
    "        res = []\n",
    "\n",
    "        for i in range(len(nums)):\n",
    "            if i != 0 and nums[i] == nums[i-1] : continue\n",
    "            target2 = target -nums[i]\n",
    "            l, r = i+1, len(nums) - 1\n",
    "            while l < r:\n",
    "                if nums[l] + nums[r] == target2:\n",
    "                    res.append((nums[i], nums[l], nums[r]))\n",
    "                    while l < r and nums[l] == nums[l+1]: l += 1\n",
    "                    while l < r and nums[r] == nums[r-1]: r -= 1\n",
    "                    l = l + 1\n",
    "                    r = r - 1\n",
    "                elif nums[l] + nums[r] < target:\n",
    "                    l = l + 1\n",
    "                else:\n",
    "                    r = r - 1\n",
    "        return res       "
   ]
  },
  {
   "cell_type": "code",
   "execution_count": null,
   "id": "sunrise-breathing",
   "metadata": {},
   "outputs": [],
   "source": [
    "class Solution:\n",
    "    def threeSum(self, nums):\n",
    "        \"\"\"\n",
    "        :type nums: List[int]\n",
    "        :rtype: List[List[int]]\n",
    "        \"\"\"\n",
    "        nums.sort()\n",
    "        res = []\n",
    "\n",
    "        for i in range(len(nums)):\n",
    "            if i != 0 and nums[i] == nums[i-1] : continue\n",
    "            target = -nums[i]\n",
    "            l, r = i+1, len(nums) - 1\n",
    "            while l < r:\n",
    "                if nums[l] + nums[r] == target:\n",
    "                    res.append((nums[i], nums[l], nums[r]))\n",
    "                    while l < r and nums[l] == nums[l+1]: l += 1\n",
    "                    while l < r and nums[r] == nums[r-1]: r -= 1\n",
    "                    l = l + 1\n",
    "                    r = r - 1\n",
    "                elif nums[l] + nums[r] < target:\n",
    "                    l = l + 1\n",
    "                else:\n",
    "                    r = r - 1\n",
    "        return res\n",
    "\n",
    "print(Solution().threeSum([-1,0,1,2,-1,-4]))\n",
    "\n"
   ]
  }
 ],
 "metadata": {
  "kernelspec": {
   "display_name": "Python 3",
   "language": "python",
   "name": "python3"
  },
  "language_info": {
   "codemirror_mode": {
    "name": "ipython",
    "version": 3
   },
   "file_extension": ".py",
   "mimetype": "text/x-python",
   "name": "python",
   "nbconvert_exporter": "python",
   "pygments_lexer": "ipython3",
   "version": "3.7.7"
  }
 },
 "nbformat": 4,
 "nbformat_minor": 5
}
