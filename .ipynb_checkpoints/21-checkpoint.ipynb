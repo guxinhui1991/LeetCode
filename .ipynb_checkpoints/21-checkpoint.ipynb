{
 "cells": [
  {
   "cell_type": "code",
   "execution_count": 1,
   "metadata": {},
   "outputs": [],
   "source": [
    "class Solution(object):\n",
    "    def isValid(self, s):\n",
    "        \"\"\"\n",
    "        :type s: str\n",
    "        :rtype: bool\n",
    "        \"\"\"\n",
    "        charDic = {\"(\": \")\", \"{\": \"}\", \"[\": \"]\"}\n",
    "        \n",
    "        if (not s): return True\n",
    "        if (len(s)%2>0): return False\n",
    "        \n",
    "        \n",
    "        tempC = []\n",
    "        for i in range(len(s)):\n",
    "            if s[i] in list(charDic.keys()): tempC.append(s[i])\n",
    "            elif(tempC==[] or s[i]!=charDic[tempC.pop()]): return False\n",
    "            \n",
    "        if len(tempC)>0: return False\n",
    "        \n",
    "        return True"
   ]
  },
  {
   "cell_type": "code",
   "execution_count": 74,
   "metadata": {},
   "outputs": [
    {
     "name": "stdout",
     "output_type": "stream",
     "text": [
      "True\n",
      "True\n",
      "True\n",
      "False\n",
      "False\n",
      "False\n",
      "False\n"
     ]
    }
   ],
   "source": [
    "print(Solution().isValid(\"()[]\"))\n",
    "print(Solution().isValid(\"\"))\n",
    "print(Solution().isValid(\"([])\"))\n",
    "print(Solution().isValid(\"([(]\"))\n",
    "print(Solution().isValid(\"[\"))\n",
    "print(Solution().isValid(\"]\"))\n",
    "print(Solution().isValid(\")[\"))"
   ]
  },
  {
   "cell_type": "code",
   "execution_count": 40,
   "metadata": {},
   "outputs": [],
   "source": [
    "testArr = []\n",
    "testArr.append(\"a\")"
   ]
  },
  {
   "cell_type": "code",
   "execution_count": 15,
   "metadata": {},
   "outputs": [],
   "source": [
    "charDic = {\"(\": \")\", \"{\": \"}\", \"[\": \"]\"}"
   ]
  },
  {
   "cell_type": "code",
   "execution_count": 61,
   "metadata": {},
   "outputs": [
    {
     "data": {
      "text/plain": [
       "1"
      ]
     },
     "execution_count": 61,
     "metadata": {},
     "output_type": "execute_result"
    }
   ],
   "source": [
    "len(list(charDic.keys()))%2"
   ]
  },
  {
   "cell_type": "code",
   "execution_count": null,
   "metadata": {},
   "outputs": [],
   "source": []
  }
 ],
 "metadata": {
  "kernelspec": {
   "display_name": "Python 3 (ipykernel)",
   "language": "python",
   "name": "python3"
  },
  "language_info": {
   "codemirror_mode": {
    "name": "ipython",
    "version": 3
   },
   "file_extension": ".py",
   "mimetype": "text/x-python",
   "name": "python",
   "nbconvert_exporter": "python",
   "pygments_lexer": "ipython3",
   "version": "3.9.13"
  }
 },
 "nbformat": 4,
 "nbformat_minor": 4
}
