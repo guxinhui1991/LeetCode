{
 "cells": [
  {
   "cell_type": "code",
   "execution_count": 28,
   "metadata": {},
   "outputs": [],
   "source": [
    "def permuteUnique(nums):\n",
    "    ans = [[]]\n",
    "    for n in nums:\n",
    "        new_ans = []\n",
    "        for l in ans:\n",
    "            print(\"n, ans, l: \", n, ans, l)\n",
    "            for i in range(len(l)+1):\n",
    "                new_ans.append(l[:i]+[n]+l[i:])\n",
    "                print(\"new_ans, i: \", new_ans, i)\n",
    "                if i<len(l) and l[i]==n: break\n",
    "        ans = new_ans\n",
    "    return ans"
   ]
  },
  {
   "cell_type": "code",
   "execution_count": 29,
   "metadata": {},
   "outputs": [
    {
     "name": "stdout",
     "output_type": "stream",
     "text": [
      "n, ans, l:  1 [[]] []\n",
      "new_ans, i:  [[1]] 0\n",
      "n, ans, l:  2 [[1]] [1]\n",
      "new_ans, i:  [[2, 1]] 0\n",
      "new_ans, i:  [[2, 1], [1, 2]] 1\n",
      "n, ans, l:  2 [[2, 1], [1, 2]] [2, 1]\n",
      "new_ans, i:  [[2, 2, 1]] 0\n",
      "n, ans, l:  2 [[2, 1], [1, 2]] [1, 2]\n",
      "new_ans, i:  [[2, 2, 1], [2, 1, 2]] 0\n",
      "new_ans, i:  [[2, 2, 1], [2, 1, 2], [1, 2, 2]] 1\n",
      "n, ans, l:  3 [[2, 2, 1], [2, 1, 2], [1, 2, 2]] [2, 2, 1]\n",
      "new_ans, i:  [[3, 2, 2, 1]] 0\n",
      "new_ans, i:  [[3, 2, 2, 1], [2, 3, 2, 1]] 1\n",
      "new_ans, i:  [[3, 2, 2, 1], [2, 3, 2, 1], [2, 2, 3, 1]] 2\n",
      "new_ans, i:  [[3, 2, 2, 1], [2, 3, 2, 1], [2, 2, 3, 1], [2, 2, 1, 3]] 3\n",
      "n, ans, l:  3 [[2, 2, 1], [2, 1, 2], [1, 2, 2]] [2, 1, 2]\n",
      "new_ans, i:  [[3, 2, 2, 1], [2, 3, 2, 1], [2, 2, 3, 1], [2, 2, 1, 3], [3, 2, 1, 2]] 0\n",
      "new_ans, i:  [[3, 2, 2, 1], [2, 3, 2, 1], [2, 2, 3, 1], [2, 2, 1, 3], [3, 2, 1, 2], [2, 3, 1, 2]] 1\n",
      "new_ans, i:  [[3, 2, 2, 1], [2, 3, 2, 1], [2, 2, 3, 1], [2, 2, 1, 3], [3, 2, 1, 2], [2, 3, 1, 2], [2, 1, 3, 2]] 2\n",
      "new_ans, i:  [[3, 2, 2, 1], [2, 3, 2, 1], [2, 2, 3, 1], [2, 2, 1, 3], [3, 2, 1, 2], [2, 3, 1, 2], [2, 1, 3, 2], [2, 1, 2, 3]] 3\n",
      "n, ans, l:  3 [[2, 2, 1], [2, 1, 2], [1, 2, 2]] [1, 2, 2]\n",
      "new_ans, i:  [[3, 2, 2, 1], [2, 3, 2, 1], [2, 2, 3, 1], [2, 2, 1, 3], [3, 2, 1, 2], [2, 3, 1, 2], [2, 1, 3, 2], [2, 1, 2, 3], [3, 1, 2, 2]] 0\n",
      "new_ans, i:  [[3, 2, 2, 1], [2, 3, 2, 1], [2, 2, 3, 1], [2, 2, 1, 3], [3, 2, 1, 2], [2, 3, 1, 2], [2, 1, 3, 2], [2, 1, 2, 3], [3, 1, 2, 2], [1, 3, 2, 2]] 1\n",
      "new_ans, i:  [[3, 2, 2, 1], [2, 3, 2, 1], [2, 2, 3, 1], [2, 2, 1, 3], [3, 2, 1, 2], [2, 3, 1, 2], [2, 1, 3, 2], [2, 1, 2, 3], [3, 1, 2, 2], [1, 3, 2, 2], [1, 2, 3, 2]] 2\n",
      "new_ans, i:  [[3, 2, 2, 1], [2, 3, 2, 1], [2, 2, 3, 1], [2, 2, 1, 3], [3, 2, 1, 2], [2, 3, 1, 2], [2, 1, 3, 2], [2, 1, 2, 3], [3, 1, 2, 2], [1, 3, 2, 2], [1, 2, 3, 2], [1, 2, 2, 3]] 3\n"
     ]
    },
    {
     "data": {
      "text/plain": [
       "[[3, 2, 2, 1],\n",
       " [2, 3, 2, 1],\n",
       " [2, 2, 3, 1],\n",
       " [2, 2, 1, 3],\n",
       " [3, 2, 1, 2],\n",
       " [2, 3, 1, 2],\n",
       " [2, 1, 3, 2],\n",
       " [2, 1, 2, 3],\n",
       " [3, 1, 2, 2],\n",
       " [1, 3, 2, 2],\n",
       " [1, 2, 3, 2],\n",
       " [1, 2, 2, 3]]"
      ]
     },
     "execution_count": 29,
     "metadata": {},
     "output_type": "execute_result"
    }
   ],
   "source": [
    "permuteUnique([1,2,2,3])"
   ]
  },
  {
   "cell_type": "code",
   "execution_count": null,
   "metadata": {},
   "outputs": [],
   "source": []
  },
  {
   "cell_type": "markdown",
   "metadata": {},
   "source": [
    "Example 1:\n",
    "\n",
    "Input: nums = [1,1,2]\n",
    "Output:\n",
    "[[1,1,2],\n",
    " [1,2,1],\n",
    " [2,1,1]]\n",
    " \n",
    "Example 2:\n",
    "\n",
    "Input: nums = [1,2,3]\n",
    "Output: [[1,2,3],[1,3,2],[2,1,3],[2,3,1],[3,1,2],[3,2,1]]"
   ]
  },
  {
   "cell_type": "code",
   "execution_count": 75,
   "metadata": {},
   "outputs": [],
   "source": [
    "class Solution:\n",
    "    def permuteUnique(self, nums):\n",
    "        \"\"\"\n",
    "        :type nums: List[int]\n",
    "        :rtype: List[List[int]]\n",
    "        \"\"\"\n",
    "        \n",
    "        "
   ]
  },
  {
   "cell_type": "code",
   "execution_count": 68,
   "metadata": {},
   "outputs": [],
   "source": [
    "nums = [1,2,1]\n"
   ]
  },
  {
   "cell_type": "code",
   "execution_count": 69,
   "metadata": {},
   "outputs": [
    {
     "name": "stdout",
     "output_type": "stream",
     "text": [
      "resPerm:  [2]\n",
      "resPerm:  [1]\n",
      "resPerm:  [1]\n",
      "resPerm:  [[1], [1]]\n"
     ]
    },
    {
     "data": {
      "text/plain": [
       "[[2, 1], [1, 2], [[1], [1]]]"
      ]
     },
     "execution_count": 69,
     "metadata": {},
     "output_type": "execute_result"
    }
   ],
   "source": [
    "Solution().permuteUnique(nums)"
   ]
  },
  {
   "cell_type": "code",
   "execution_count": 44,
   "metadata": {},
   "outputs": [
    {
     "data": {
      "text/plain": [
       "[1, 1, 2]"
      ]
     },
     "execution_count": 44,
     "metadata": {},
     "output_type": "execute_result"
    }
   ],
   "source": [
    "nums"
   ]
  },
  {
   "cell_type": "code",
   "execution_count": 45,
   "metadata": {},
   "outputs": [
    {
     "data": {
      "text/plain": [
       "[1]"
      ]
     },
     "execution_count": 45,
     "metadata": {},
     "output_type": "execute_result"
    }
   ],
   "source": [
    "nums[:1]"
   ]
  },
  {
   "cell_type": "code",
   "execution_count": null,
   "metadata": {},
   "outputs": [],
   "source": []
  }
 ],
 "metadata": {
  "kernelspec": {
   "display_name": "Python 3 (ipykernel)",
   "language": "python",
   "name": "python3"
  },
  "language_info": {
   "codemirror_mode": {
    "name": "ipython",
    "version": 3
   },
   "file_extension": ".py",
   "mimetype": "text/x-python",
   "name": "python",
   "nbconvert_exporter": "python",
   "pygments_lexer": "ipython3",
   "version": "3.9.13"
  }
 },
 "nbformat": 4,
 "nbformat_minor": 2
}
