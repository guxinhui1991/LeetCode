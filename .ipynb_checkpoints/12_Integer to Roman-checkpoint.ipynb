{
 "cells": [
  {
   "cell_type": "code",
   "execution_count": 3,
   "metadata": {},
   "outputs": [],
   "source": [
    "import numpy as np\n",
    "import pandas as pd"
   ]
  },
  {
   "cell_type": "code",
   "execution_count": 8,
   "metadata": {},
   "outputs": [],
   "source": [
    "class Solution:\n",
    "    def intToRoman(self, num):\n",
    "        \"\"\"\n",
    "        :type num: int\n",
    "        :rtype: str\n",
    "        \"\"\"\n",
    "        roman_dict = {\n",
    "            'I' : 1,\n",
    "            'IV' : 4,\n",
    "            'V' : 5,\n",
    "            'IX' : 9,\n",
    "            'X' : 10,\n",
    "            'XL' : 40,\n",
    "            'L' : 50,\n",
    "            'XC' : 90,\n",
    "            'C' : 100,\n",
    "            'CD' : 400,\n",
    "            'D' : 500,\n",
    "            'CM' : 900,\n",
    "            'M' : 1000,\n",
    "        }\n",
    "        for i in roman_dict.keys():\n",
    "            print(num, i)\n",
    "            num = int(num/roman_dict[i])\n",
    "                    "
   ]
  },
  {
   "cell_type": "code",
   "execution_count": 9,
   "metadata": {},
   "outputs": [
    {
     "name": "stdout",
     "output_type": "stream",
     "text": [
      "2 I\n",
      "2 IV\n",
      "0 V\n",
      "0 IX\n",
      "0 X\n",
      "0 XL\n",
      "0 L\n",
      "0 XC\n",
      "0 C\n",
      "0 CD\n",
      "0 D\n",
      "0 CM\n",
      "0 M\n"
     ]
    }
   ],
   "source": [
    "Solution().intToRoman(2)"
   ]
  },
  {
   "cell_type": "code",
   "execution_count": 11,
   "metadata": {},
   "outputs": [],
   "source": [
    "roman_dict = {\n",
    "    'I' : 1,\n",
    "    'V' : 5,\n",
    "    'X' : 10,\n",
    "    'L' : 50,\n",
    "    'C' : 100,\n",
    "    'D' : 500,\n",
    "    'M' : 1000,\n",
    "}"
   ]
  },
  {
   "cell_type": "code",
   "execution_count": 22,
   "metadata": {
    "scrolled": true
   },
   "outputs": [
    {
     "name": "stdout",
     "output_type": "stream",
     "text": [
      "1\n",
      "5\n",
      "10\n",
      "50\n",
      "100\n",
      "500\n",
      "1000\n"
     ]
    }
   ],
   "source": [
    "num = 27\n",
    "for i in roman_dict.keys():\n",
    "    print(roman_dict[i])"
   ]
  },
  {
   "cell_type": "code",
   "execution_count": 28,
   "metadata": {},
   "outputs": [],
   "source": [
    "class Solution:\n",
    "    def intToRoman(self, num):\n",
    "        \"\"\"\n",
    "        :type num: int\n",
    "        :rtype: str\n",
    "        \"\"\"\n",
    "        I = [1,4,5,9,10,40,50,90,100,400,500,900,1000]\n",
    "        S = ['I','IV','V','IX','X','XL','L','XC','C','CD','D','CM','M']\n",
    "        res = ''\n",
    "        for i in range(len(I)-1,-1,-1):\n",
    "            tim , num = divmod(num,I[i])\n",
    "            res += tim*S[i]\n",
    "        return res"
   ]
  }
 ],
 "metadata": {
  "kernelspec": {
   "display_name": "Python 3 (ipykernel)",
   "language": "python",
   "name": "python3"
  },
  "language_info": {
   "codemirror_mode": {
    "name": "ipython",
    "version": 3
   },
   "file_extension": ".py",
   "mimetype": "text/x-python",
   "name": "python",
   "nbconvert_exporter": "python",
   "pygments_lexer": "ipython3",
   "version": "3.9.13"
  }
 },
 "nbformat": 4,
 "nbformat_minor": 2
}
