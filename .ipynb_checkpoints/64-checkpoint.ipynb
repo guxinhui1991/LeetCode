{
 "cells": [
  {
   "cell_type": "code",
   "execution_count": 1,
   "metadata": {},
   "outputs": [],
   "source": [
    "class Solution:\n",
    "    def minPathSum(self, grid):\n",
    "        if len(grid)==0: return\n",
    "        \n",
    "        m,n = len(grid), len(grid[0])\n",
    "        sum_res = [[0]*n for i in range(m)]\n",
    "        sum_res[0][0] = grid[0][0]\n",
    "\n",
    "\n",
    "        for i in range(1, m):\n",
    "            sum_res[i][0] = sum_res[i-1][0] + grid[i][0]\n",
    "        \n",
    "        for i in range(1, n):\n",
    "            sum_res[0][i] = sum_res[0][i-1] + grid[0][i]\n",
    "        \n",
    "        for i in range(1, m):\n",
    "            for j in range(1, n):\n",
    "                print(i, j)\n",
    "                sum_res[i][j] = min(sum_res[i-1][j], sum_res[i][j-1]) + grid[i][j]\n",
    "\n",
    "        print(sum_res)\n",
    "        return sum_res[m-1][n-1]"
   ]
  },
  {
   "cell_type": "code",
   "execution_count": 2,
   "metadata": {},
   "outputs": [],
   "source": [
    "test1 = [[1,3,1], [1,5,1], [4,2,1]]"
   ]
  },
  {
   "cell_type": "code",
   "execution_count": 3,
   "metadata": {},
   "outputs": [
    {
     "name": "stdout",
     "output_type": "stream",
     "text": [
      "1 1\n",
      "1 2\n",
      "2 1\n",
      "2 2\n",
      "[[1, 4, 5], [2, 7, 6], [6, 8, 7]]\n"
     ]
    },
    {
     "data": {
      "text/plain": [
       "7"
      ]
     },
     "execution_count": 3,
     "metadata": {},
     "output_type": "execute_result"
    }
   ],
   "source": [
    "Solution().minPathSum(test1)"
   ]
  },
  {
   "cell_type": "code",
   "execution_count": null,
   "metadata": {},
   "outputs": [],
   "source": []
  }
 ],
 "metadata": {
  "kernelspec": {
   "display_name": "Python 3",
   "language": "python",
   "name": "python3"
  },
  "language_info": {
   "codemirror_mode": {
    "name": "ipython",
    "version": 3
   },
   "file_extension": ".py",
   "mimetype": "text/x-python",
   "name": "python",
   "nbconvert_exporter": "python",
   "pygments_lexer": "ipython3",
   "version": "3.6.3"
  }
 },
 "nbformat": 4,
 "nbformat_minor": 2
}
