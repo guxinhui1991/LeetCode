{
 "cells": [
  {
   "cell_type": "code",
   "execution_count": 26,
   "metadata": {},
   "outputs": [
    {
     "name": "stdout",
     "output_type": "stream",
     "text": [
      "(1, 2, 3)\n",
      "(1, 3, 2)\n",
      "(2, 1, 3)\n",
      "(2, 3, 1)\n",
      "(3, 1, 2)\n",
      "(3, 2, 1)\n"
     ]
    }
   ],
   "source": [
    "# A Python program to print all \n",
    "# permutations using library function\n",
    "from itertools import permutations\n",
    " \n",
    "# Get all permutations of [1, 2, 3]\n",
    "perm = permutations([1, 2, 3])\n",
    "\n",
    "# Print the obtained permutations\n",
    "for i in list(perm):\n",
    "    print(i)"
   ]
  },
  {
   "cell_type": "code",
   "execution_count": 30,
   "metadata": {
    "collapsed": true
   },
   "outputs": [],
   "source": [
    "if __name__ == '__main__':\n",
    "    perm = getPermutation(3, 2)\n",
    "    list(perm)"
   ]
  },
  {
   "cell_type": "code",
   "execution_count": 34,
   "metadata": {},
   "outputs": [
    {
     "data": {
      "text/plain": [
       "(1, 3, 2)"
      ]
     },
     "execution_count": 34,
     "metadata": {},
     "output_type": "execute_result"
    }
   ],
   "source": [
    "perm = getPermutation(3, 2)\n",
    "perm[1]"
   ]
  },
  {
   "cell_type": "code",
   "execution_count": 37,
   "metadata": {},
   "outputs": [
    {
     "data": {
      "text/plain": [
       "(1, 3, 2, 4)"
      ]
     },
     "execution_count": 37,
     "metadata": {},
     "output_type": "execute_result"
    }
   ],
   "source": [
    "test = getPermutation(4, 2)\n",
    "test"
   ]
  },
  {
   "cell_type": "code",
   "execution_count": 12,
   "metadata": {
    "collapsed": true
   },
   "outputs": [],
   "source": [
    "import math\n",
    "def getPermutation(n, k):\n",
    "    numbers = list(range(1, n+1))\n",
    "    permutation = ''\n",
    "    k -= 1\n",
    "    \n",
    "    print(n, k)\n",
    "    while n > 0:\n",
    "        n -= 1\n",
    "        # get the index of current digit\n",
    "        index, k = divmod(k, math.factorial(n))\n",
    "        permutation += str(numbers[index])\n",
    "        # remove handled number\n",
    "        numbers.remove(numbers[index])\n",
    "        \n",
    "        print('Iteration ')\n",
    "        print(n, k)\n",
    "        print(numbers)\n",
    "        print()\n",
    "        \n",
    "    return permutation"
   ]
  },
  {
   "cell_type": "code",
   "execution_count": 17,
   "metadata": {},
   "outputs": [
    {
     "name": "stdout",
     "output_type": "stream",
     "text": [
      "3 1\n",
      "Iteration \n",
      "2 1\n",
      "[2, 3]\n",
      "\n",
      "Iteration \n",
      "1 0\n",
      "[2]\n",
      "\n",
      "Iteration \n",
      "0 0\n",
      "[]\n",
      "\n"
     ]
    }
   ],
   "source": [
    "if __name__ == '__main__':\n",
    "    perm = getPermutation(3, 2)\n",
    "    list(perm)"
   ]
  },
  {
   "cell_type": "code",
   "execution_count": 65,
   "metadata": {
    "collapsed": true
   },
   "outputs": [],
   "source": [
    "def getPermutation(n, k):\n",
    "    \"\"\"\n",
    "    :type n: int\n",
    "    :type k: int\n",
    "    :rtype: str\n",
    "    \"\"\"\n",
    "    nums = list(range(1, n+1))\n",
    "    res = []\n",
    "    k-=1\n",
    "    while(n>0):\n",
    "        n -= 1\n",
    "        index, k = divmod(k, math.factorial(n))\n",
    "        \n",
    "        print('index  ', index)\n",
    "        print('k  ', k)\n",
    "        res.append(nums[index])\n",
    "        nums.remove(nums[index])\n",
    "        print('nums ', nums)\n",
    "        print(res)\n",
    "        print()\n",
    "\n",
    "    return res"
   ]
  },
  {
   "cell_type": "code",
   "execution_count": 61,
   "metadata": {},
   "outputs": [
    {
     "name": "stdout",
     "output_type": "stream",
     "text": [
      "index   1\n",
      "k   0\n",
      "[2]\n",
      "\n",
      "index   0\n",
      "k   0\n",
      "[2, 1]\n",
      "\n",
      "index   0\n",
      "k   0\n",
      "[2, 1, 3]\n",
      "\n",
      "index   0\n",
      "k   0\n",
      "[2, 1, 3, 4]\n",
      "\n",
      "[2, 1, 3, 4]\n"
     ]
    }
   ],
   "source": [
    "if __name__ == '__main__':\n",
    "    perm = getPermutation(4, 6)\n",
    "    print(list(perm))"
   ]
  },
  {
   "cell_type": "code",
   "execution_count": 66,
   "metadata": {},
   "outputs": [
    {
     "name": "stdout",
     "output_type": "stream",
     "text": [
      "index   1\n",
      "k   0\n",
      "nums  [1, 3]\n",
      "[2]\n",
      "\n",
      "index   0\n",
      "k   0\n",
      "nums  [3]\n",
      "[2, 1]\n",
      "\n",
      "index   0\n",
      "k   0\n",
      "nums  []\n",
      "[2, 1, 3]\n",
      "\n",
      "[2, 1, 3]\n"
     ]
    }
   ],
   "source": [
    "if __name__ == '__main__':\n",
    "    perm = getPermutation(3, 3)\n",
    "    print(list(perm))"
   ]
  },
  {
   "cell_type": "code",
   "execution_count": 56,
   "metadata": {},
   "outputs": [],
   "source": [
    "if __name__ == '__main__':\n",
    "    perm = getPermutation(1, 1)\n",
    "    list(perm)"
   ]
  },
  {
   "cell_type": "code",
   "execution_count": 47,
   "metadata": {},
   "outputs": [],
   "source": [
    "import math\n",
    "class Solution:\n",
    "    # @param {integer} n\n",
    "    # @param {integer} k\n",
    "    # @return {string}\n",
    "    def getPermutation(self, n, k):\n",
    "        numbers = list(range(1, n+1))\n",
    "        permutation = ''\n",
    "        k -= 1\n",
    "        while n > 0:\n",
    "            n -= 1\n",
    "            # get the index of current digit\n",
    "            print(k, n)\n",
    "            index, k = divmod(k, math.factorial(n))\n",
    "            permutation += str(numbers[index])\n",
    "            # remove handled number\n",
    "            numbers.remove(numbers[index])\n",
    "\n",
    "        return permutation"
   ]
  },
  {
   "cell_type": "code",
   "execution_count": 48,
   "metadata": {},
   "outputs": [
    {
     "name": "stdout",
     "output_type": "stream",
     "text": [
      "0 0\n"
     ]
    },
    {
     "data": {
      "text/plain": [
       "'1'"
      ]
     },
     "execution_count": 48,
     "metadata": {},
     "output_type": "execute_result"
    }
   ],
   "source": [
    "Solution().getPermutation(1,1)"
   ]
  },
  {
   "cell_type": "code",
   "execution_count": 49,
   "metadata": {},
   "outputs": [
    {
     "data": {
      "text/plain": [
       "(0, 0)"
      ]
     },
     "execution_count": 49,
     "metadata": {},
     "output_type": "execute_result"
    }
   ],
   "source": [
    "divmod(0, math.factorial(0))"
   ]
  },
  {
   "cell_type": "code",
   "execution_count": null,
   "metadata": {
    "collapsed": true
   },
   "outputs": [],
   "source": []
  }
 ],
 "metadata": {
  "kernelspec": {
   "display_name": "Python 3",
   "language": "python",
   "name": "python3"
  },
  "language_info": {
   "codemirror_mode": {
    "name": "ipython",
    "version": 3
   },
   "file_extension": ".py",
   "mimetype": "text/x-python",
   "name": "python",
   "nbconvert_exporter": "python",
   "pygments_lexer": "ipython3",
   "version": "3.6.3"
  }
 },
 "nbformat": 4,
 "nbformat_minor": 2
}
