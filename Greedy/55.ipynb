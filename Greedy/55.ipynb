{
 "cells": [
  {
   "cell_type": "code",
   "execution_count": 2,
   "id": "d38446c6",
   "metadata": {},
   "outputs": [],
   "source": [
    "# Version 2018\n",
    "class Solution(object):\n",
    "    def canJump(self, nums):\n",
    "        stepsLeft = nums[0]\n",
    "\n",
    "        if not stepsLeft and len(nums) > 1:\n",
    "            return False\n",
    "\n",
    "        for num in nums[1:-1]:\n",
    "            stepsLeft = max(stepsLeft - 1, num)\n",
    "            if not stepsLeft:\n",
    "                return False\n",
    "\n",
    "        return True"
   ]
  },
  {
   "cell_type": "code",
   "execution_count": null,
   "id": "e79f09a1",
   "metadata": {},
   "outputs": [],
   "source": []
  },
  {
   "cell_type": "code",
   "execution_count": 21,
   "id": "10293785",
   "metadata": {},
   "outputs": [],
   "source": [
    "class Solution(object):\n",
    "    def canJump(self, nums):\n",
    "        \"\"\"\n",
    "        :type nums: List[int]\n",
    "        :rtype: bool\n",
    "        \"\"\"\n",
    "        if (len(nums) <=1): return True\n",
    "        N = len(nums)\n",
    "        maxReach = nums[0]\n",
    "        \n",
    "        if maxReach <=0 : return False\n",
    "        for i in range(1, N):\n",
    "            print(i, maxReach)\n",
    "            if(maxReach < i): return False\n",
    "            if((i + nums[i])> maxReach):\n",
    "                maxReach = i + nums[i]\n",
    "        \n",
    "        return maxReach >= N-1\n",
    "            "
   ]
  },
  {
   "cell_type": "code",
   "execution_count": 22,
   "id": "7d07e513",
   "metadata": {},
   "outputs": [
    {
     "name": "stdout",
     "output_type": "stream",
     "text": [
      "1 2\n",
      "2 4\n",
      "3 4\n",
      "4 4\n"
     ]
    },
    {
     "data": {
      "text/plain": [
       "True"
      ]
     },
     "execution_count": 22,
     "metadata": {},
     "output_type": "execute_result"
    }
   ],
   "source": [
    "nums = [2,3,1,1,4]\n",
    "Solution().canJump(nums)"
   ]
  },
  {
   "cell_type": "code",
   "execution_count": 23,
   "id": "ea080196",
   "metadata": {},
   "outputs": [
    {
     "name": "stdout",
     "output_type": "stream",
     "text": [
      "1 3\n",
      "2 3\n",
      "3 3\n",
      "4 3\n"
     ]
    },
    {
     "data": {
      "text/plain": [
       "False"
      ]
     },
     "execution_count": 23,
     "metadata": {},
     "output_type": "execute_result"
    }
   ],
   "source": [
    "nums = [3,2,1,0,4]\n",
    "Solution().canJump(nums)"
   ]
  },
  {
   "cell_type": "code",
   "execution_count": 24,
   "id": "b2931ab3",
   "metadata": {},
   "outputs": [
    {
     "name": "stdout",
     "output_type": "stream",
     "text": [
      "1 2\n",
      "2 2\n"
     ]
    },
    {
     "data": {
      "text/plain": [
       "True"
      ]
     },
     "execution_count": 24,
     "metadata": {},
     "output_type": "execute_result"
    }
   ],
   "source": [
    "nums=[2,0,0]\n",
    "Solution().canJump(nums)"
   ]
  },
  {
   "cell_type": "code",
   "execution_count": null,
   "id": "036ee6c9",
   "metadata": {},
   "outputs": [],
   "source": []
  }
 ],
 "metadata": {
  "kernelspec": {
   "display_name": "Python 3 (ipykernel)",
   "language": "python",
   "name": "python3"
  },
  "language_info": {
   "codemirror_mode": {
    "name": "ipython",
    "version": 3
   },
   "file_extension": ".py",
   "mimetype": "text/x-python",
   "name": "python",
   "nbconvert_exporter": "python",
   "pygments_lexer": "ipython3",
   "version": "3.9.13"
  }
 },
 "nbformat": 4,
 "nbformat_minor": 5
}
