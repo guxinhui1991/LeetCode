{
 "cells": [
  {
   "cell_type": "code",
   "execution_count": 33,
   "id": "3c55b49b",
   "metadata": {},
   "outputs": [],
   "source": [
    "class Solution(object):\n",
    "    def wiggleMaxLength(self, nums):\n",
    "        \"\"\"\n",
    "        :type nums: List[int]\n",
    "        :rtype: int\n",
    "        \"\"\"\n",
    "        N = len(nums)\n",
    "        res = len(nums)\n",
    "        for i in range(N-2):\n",
    "            if (nums[i+1]-nums[i])*(nums[i+2]-nums[i+1]) < 0:\n",
    "                i = i + 2\n",
    "                continue\n",
    "            else:\n",
    "                l = 1\n",
    "                while(i+l< N-2 and (nums[i+l+2]-nums[i+l+1])*(nums[i+l+1]-nums[i+l]) >0):\n",
    "                    l += 1\n",
    "                \n",
    "                res -= l\n",
    "\n",
    "        return res"
   ]
  },
  {
   "cell_type": "code",
   "execution_count": 34,
   "id": "72e6f86c",
   "metadata": {},
   "outputs": [],
   "source": [
    "nums=[1, 7, 4, 9, 2, 5]"
   ]
  },
  {
   "cell_type": "code",
   "execution_count": 35,
   "id": "bcfa0735",
   "metadata": {},
   "outputs": [
    {
     "data": {
      "text/plain": [
       "6"
      ]
     },
     "execution_count": 35,
     "metadata": {},
     "output_type": "execute_result"
    }
   ],
   "source": [
    "Solution().wiggleMaxLength(nums)"
   ]
  },
  {
   "cell_type": "code",
   "execution_count": 36,
   "id": "ff587688",
   "metadata": {},
   "outputs": [
    {
     "data": {
      "text/plain": [
       "6"
      ]
     },
     "execution_count": 36,
     "metadata": {},
     "output_type": "execute_result"
    }
   ],
   "source": [
    "nums=[1,17,5,10,13,15,10,5,16,8]\n",
    "Solution().wiggleMaxLength(nums)"
   ]
  },
  {
   "cell_type": "code",
   "execution_count": null,
   "id": "b906bb06",
   "metadata": {},
   "outputs": [],
   "source": []
  },
  {
   "cell_type": "code",
   "execution_count": 37,
   "id": "c95db3fc",
   "metadata": {},
   "outputs": [
    {
     "data": {
      "text/plain": [
       "-19"
      ]
     },
     "execution_count": 37,
     "metadata": {},
     "output_type": "execute_result"
    }
   ],
   "source": [
    "nums= [1,2,3,4,5,6,7,8,9]\n",
    "Solution().wiggleMaxLength(nums)"
   ]
  },
  {
   "cell_type": "code",
   "execution_count": null,
   "id": "0d4d3ebd",
   "metadata": {},
   "outputs": [],
   "source": []
  }
 ],
 "metadata": {
  "kernelspec": {
   "display_name": "Python 3 (ipykernel)",
   "language": "python",
   "name": "python3"
  },
  "language_info": {
   "codemirror_mode": {
    "name": "ipython",
    "version": 3
   },
   "file_extension": ".py",
   "mimetype": "text/x-python",
   "name": "python",
   "nbconvert_exporter": "python",
   "pygments_lexer": "ipython3",
   "version": "3.9.13"
  }
 },
 "nbformat": 4,
 "nbformat_minor": 5
}
