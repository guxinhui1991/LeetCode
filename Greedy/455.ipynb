{
 "cells": [
  {
   "cell_type": "code",
   "execution_count": 1,
   "id": "f8f0ed09",
   "metadata": {},
   "outputs": [],
   "source": [
    "class Solution(object):\n",
    "    def findContentChildren(self, g, s):\n",
    "        \"\"\"\n",
    "        :type g: List[int]\n",
    "        :type s: List[int]\n",
    "        :rtype: int\n",
    "        \"\"\"\n",
    "        res = 0\n",
    "        g.sort()\n",
    "        s.sort()\n",
    "        for child in g:\n",
    "            cookieidx = self.findSmallestCookie(s, child)\n",
    "\n",
    "            if cookieidx >= 0:\n",
    "                res = res + 1\n",
    "                s.pop(cookieidx)\n",
    "\n",
    "        return res\n",
    "    \n",
    "    def findSmallestCookie(self, s, target):\n",
    "        for i, num in enumerate(s):\n",
    "            if num >= target:\n",
    "                return i\n",
    "        return -1"
   ]
  },
  {
   "cell_type": "code",
   "execution_count": 4,
   "id": "9818c61e",
   "metadata": {},
   "outputs": [
    {
     "data": {
      "text/plain": [
       "1"
      ]
     },
     "execution_count": 4,
     "metadata": {},
     "output_type": "execute_result"
    }
   ],
   "source": [
    "g = [1,2,3]\n",
    "s = [1,1]\n",
    "Solution().findContentChildren(g,s)"
   ]
  },
  {
   "cell_type": "code",
   "execution_count": null,
   "id": "b7d87d97",
   "metadata": {},
   "outputs": [],
   "source": []
  }
 ],
 "metadata": {
  "kernelspec": {
   "display_name": "Python 3 (ipykernel)",
   "language": "python",
   "name": "python3"
  },
  "language_info": {
   "codemirror_mode": {
    "name": "ipython",
    "version": 3
   },
   "file_extension": ".py",
   "mimetype": "text/x-python",
   "name": "python",
   "nbconvert_exporter": "python",
   "pygments_lexer": "ipython3",
   "version": "3.9.13"
  }
 },
 "nbformat": 4,
 "nbformat_minor": 5
}
