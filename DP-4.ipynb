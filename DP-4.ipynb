{
 "cells": [
  {
   "cell_type": "code",
   "execution_count": 7,
   "metadata": {},
   "outputs": [],
   "source": [
    "def LCS(arr1, arr2):\n",
    "    m, n = len(arr1), len(arr2)\n",
    "    \n",
    "    if m == 0 or n == 0:\n",
    "        return 0 \n",
    "    elif arr1[-1] == arr2[-1]:\n",
    "        return 1 + LCS(arr1[:-1], arr2[:-1])\n",
    "    else:\n",
    "        return max(LCS(arr1[:-1], arr2), LCS(arr1, arr2[:-1]))"
   ]
  },
  {
   "cell_type": "code",
   "execution_count": 8,
   "metadata": {},
   "outputs": [
    {
     "data": {
      "text/plain": [
       "4"
      ]
     },
     "execution_count": 8,
     "metadata": {},
     "output_type": "execute_result"
    }
   ],
   "source": [
    "LCS('AGGTAB', 'GXTXAYB')"
   ]
  }
 ],
 "metadata": {
  "kernelspec": {
   "display_name": "Python 3 (ipykernel)",
   "language": "python",
   "name": "python3"
  },
  "language_info": {
   "codemirror_mode": {
    "name": "ipython",
    "version": 3
   },
   "file_extension": ".py",
   "mimetype": "text/x-python",
   "name": "python",
   "nbconvert_exporter": "python",
   "pygments_lexer": "ipython3",
   "version": "3.9.13"
  }
 },
 "nbformat": 4,
 "nbformat_minor": 2
}
