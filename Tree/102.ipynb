{
 "cells": [
  {
   "cell_type": "code",
   "execution_count": 2,
   "id": "9ed04a37",
   "metadata": {},
   "outputs": [],
   "source": [
    "# Definition for a binary tree node.\n",
    "class TreeNode(object):\n",
    "    def __init__(self, val=0, left=None, right=None):\n",
    "        self.val = val\n",
    "        self.left = left\n",
    "        self.right = right\n",
    "\n",
    "class Solution(object):\n",
    "    def levelOrder(self, root):\n",
    "        \"\"\"\n",
    "        :type root: TreeNode\n",
    "        :rtype: List[List[int]]\n",
    "        \"\"\"\n",
    "        \n",
    "        queue = []\n",
    "        res = []\n",
    "        if root: queue.append(root)\n",
    "            \n",
    "        while(queue):\n",
    "            size = len(queue)\n",
    "            vec = []\n",
    "            \n",
    "            \n",
    "            for i in range(size):\n",
    "                #tmpNode = queue[-1]\n",
    "                tmpNode = queue.pop()\n",
    "                vec.append(tmpNode.val)\n",
    "                if tmpNode.left: queue.insert(0, tmpNode.left)\n",
    "                if tmpNode.right: queue.insert(0, tmpNode.right)                \n",
    "            \n",
    "            res.append(vec)\n",
    "        \n",
    "        return res\n",
    "        \n",
    "        "
   ]
  },
  {
   "cell_type": "code",
   "execution_count": null,
   "id": "52fb6e7a",
   "metadata": {},
   "outputs": [],
   "source": []
  }
 ],
 "metadata": {
  "kernelspec": {
   "display_name": "Python 3 (ipykernel)",
   "language": "python",
   "name": "python3"
  },
  "language_info": {
   "codemirror_mode": {
    "name": "ipython",
    "version": 3
   },
   "file_extension": ".py",
   "mimetype": "text/x-python",
   "name": "python",
   "nbconvert_exporter": "python",
   "pygments_lexer": "ipython3",
   "version": "3.9.13"
  }
 },
 "nbformat": 4,
 "nbformat_minor": 5
}
