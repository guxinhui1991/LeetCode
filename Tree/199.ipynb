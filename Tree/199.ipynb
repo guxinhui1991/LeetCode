{
 "cells": [
  {
   "cell_type": "code",
   "execution_count": 1,
   "id": "102e465d",
   "metadata": {},
   "outputs": [],
   "source": [
    "# Definition for a binary tree node.\n",
    "class TreeNode(object):\n",
    "    def __init__(self, val=0, left=None, right=None):\n",
    "        self.val = val\n",
    "        self.left = left\n",
    "        self.right = right\n",
    "\n",
    "class Solution(object):\n",
    "    def levelOrderBottom(self, root):\n",
    "        \"\"\"\n",
    "        :type root: TreeNode\n",
    "        :rtype: List[List[int]]\n",
    "        \"\"\"\n",
    "        \n",
    "        queue = []\n",
    "        res = []\n",
    "        if root: queue.append(root)\n",
    "            \n",
    "        while(queue):\n",
    "            size = len(queue)\n",
    "            vec = []\n",
    "            \n",
    "            \n",
    "            for i in range(size):\n",
    "                tmpNode = queue.pop()\n",
    "                vec.append(tmpNode.val)\n",
    "                if tmpNode.left: queue.insert(0, tmpNode.left)\n",
    "                if tmpNode.right: queue.insert(0, tmpNode.right)                \n",
    "            \n",
    "            res.append(vec[-1])\n",
    "        \n",
    "        return res\n",
    "        \n",
    "        "
   ]
  },
  {
   "cell_type": "markdown",
   "id": "80891133",
   "metadata": {},
   "source": [
    "## Only store rightmost value"
   ]
  },
  {
   "cell_type": "code",
   "execution_count": 2,
   "id": "768af5f7",
   "metadata": {},
   "outputs": [],
   "source": [
    "# Definition for a binary tree node.\n",
    "class TreeNode(object):\n",
    "    def __init__(self, val=0, left=None, right=None):\n",
    "        self.val = val\n",
    "        self.left = left\n",
    "        self.right = right\n",
    "\n",
    "class Solution(object):\n",
    "    def levelOrderBottom(self, root):\n",
    "        \"\"\"\n",
    "        :type root: TreeNode\n",
    "        :rtype: List[List[int]]\n",
    "        \"\"\"\n",
    "        \n",
    "        queue = []\n",
    "        res = []\n",
    "        if root: queue.append(root)\n",
    "            \n",
    "        while(queue):\n",
    "            size = len(queue)\n",
    "            for i in range(size):\n",
    "                tmpNode = queue.pop()\n",
    "                if tmpNode.left: queue.insert(0, tmpNode.left)\n",
    "                if tmpNode.right: queue.insert(0, tmpNode.right)                \n",
    "                \n",
    "                if(i==size-1): res.append(tmpNode.val)\n",
    "                        \n",
    "        return res\n",
    "        \n",
    "        "
   ]
  },
  {
   "cell_type": "code",
   "execution_count": null,
   "id": "0cfe51e7",
   "metadata": {},
   "outputs": [],
   "source": []
  }
 ],
 "metadata": {
  "kernelspec": {
   "display_name": "Python 3 (ipykernel)",
   "language": "python",
   "name": "python3"
  },
  "language_info": {
   "codemirror_mode": {
    "name": "ipython",
    "version": 3
   },
   "file_extension": ".py",
   "mimetype": "text/x-python",
   "name": "python",
   "nbconvert_exporter": "python",
   "pygments_lexer": "ipython3",
   "version": "3.9.13"
  }
 },
 "nbformat": 4,
 "nbformat_minor": 5
}
