{
 "cells": [
  {
   "cell_type": "code",
   "execution_count": null,
   "id": "bf1e1dfa",
   "metadata": {},
   "outputs": [],
   "source": [
    "# Definition for a binary tree node.\n",
    "class TreeNode(object):\n",
    "    def __init__(self, val=0, left=None, right=None):\n",
    "        self.val = val\n",
    "        self.left = left\n",
    "        self.right = right\n",
    "\n",
    "class Solution(object):\n",
    "    def levelOrderBottom(self, root):\n",
    "        \"\"\"\n",
    "        :type root: TreeNode\n",
    "        :rtype: List[List[int]]\n",
    "        \"\"\"\n",
    "        \n",
    "        queue = []\n",
    "        res = []\n",
    "        if root: queue.append(root)\n",
    "            \n",
    "        while(queue):\n",
    "            size = len(queue)\n",
    "            val_level = 0.0\n",
    "            \n",
    "            \n",
    "            for i in range(size):\n",
    "                tmpNode = queue.pop()\n",
    "                val_level += tmpNode.val\n",
    "                if tmpNode.left: queue.insert(0, tmpNode.left)\n",
    "                if tmpNode.right: queue.insert(0, tmpNode.right)                \n",
    "            \n",
    "            res.append(val_level/size)\n",
    "        \n",
    "        return res\n",
    "        \n",
    "        "
   ]
  }
 ],
 "metadata": {
  "kernelspec": {
   "display_name": "Python 3 (ipykernel)",
   "language": "python",
   "name": "python3"
  },
  "language_info": {
   "codemirror_mode": {
    "name": "ipython",
    "version": 3
   },
   "file_extension": ".py",
   "mimetype": "text/x-python",
   "name": "python",
   "nbconvert_exporter": "python",
   "pygments_lexer": "ipython3",
   "version": "3.9.13"
  }
 },
 "nbformat": 4,
 "nbformat_minor": 5
}
