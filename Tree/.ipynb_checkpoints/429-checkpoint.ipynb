{
 "cells": [
  {
   "cell_type": "markdown",
   "id": "955a3b1c",
   "metadata": {},
   "source": [
    "## Iterative"
   ]
  },
  {
   "cell_type": "code",
   "execution_count": 5,
   "id": "d8731318",
   "metadata": {},
   "outputs": [],
   "source": [
    "# Definition for a Node.\n",
    "class Node(object):\n",
    "    def __init__(self, val=None, children=None):\n",
    "        self.val = val\n",
    "        self.children = children\n",
    "\n",
    "class Solution(object):\n",
    "    def levelOrder(self, root):\n",
    "        \"\"\"\n",
    "        :type root: Node\n",
    "        :rtype: List[List[int]]\n",
    "        \"\"\"\n",
    "        res = []\n",
    "        level_node = [root]\n",
    "        \n",
    "        while level_node:\n",
    "            res.append([node.val for node in level_node])\n",
    "            next_level =[]\n",
    "            for node in level:\n",
    "                for i in node.children:\n",
    "                    if i:\n",
    "                        next_level.append(i)\n",
    "            \n",
    "            level_node = next_level\n",
    "        return res"
   ]
  },
  {
   "cell_type": "markdown",
   "id": "ce8bb25d",
   "metadata": {},
   "source": [
    "## Recursive"
   ]
  },
  {
   "cell_type": "code",
   "execution_count": 6,
   "id": "729dbcb3",
   "metadata": {},
   "outputs": [],
   "source": [
    "# Definition for a Node.\n",
    "class Node(object):\n",
    "    def __init__(self, val=None, children=None):\n",
    "        self.val = val\n",
    "        self.children = children\n",
    "\n",
    "class Solution(object):\n",
    "    def levelOrder(self, root):\n",
    "        \"\"\"\n",
    "        :type root: Node\n",
    "        :rtype: List[List[int]]\n",
    "        \"\"\"\n",
    "        l = {}\n",
    "        \n",
    "        def DFS(node, level):\n",
    "            if not node: return\n",
    "            if level in l.keys(): \n",
    "                l[level] += [node.val]\n",
    "            else:\n",
    "                l[level] = [node.val]\n",
    "            for c in node.children:\n",
    "                DFS(c, level+1)\n",
    "            \n",
    "        DFS(root, 0)\n",
    "        return [val for k, val in l.items()]"
   ]
  },
  {
   "cell_type": "code",
   "execution_count": 7,
   "id": "dce8d234",
   "metadata": {},
   "outputs": [],
   "source": [
    "l={}\n",
    "l[1] =[0]\n",
    "l[2] =[1,2,3,]"
   ]
  },
  {
   "cell_type": "code",
   "execution_count": 14,
   "id": "ece50d2c",
   "metadata": {},
   "outputs": [
    {
     "data": {
      "text/plain": [
       "[[0], [1, 2, 3]]"
      ]
     },
     "execution_count": 14,
     "metadata": {},
     "output_type": "execute_result"
    }
   ],
   "source": [
    "[val for k, val in l.items()]"
   ]
  },
  {
   "cell_type": "code",
   "execution_count": null,
   "id": "aae3dea1",
   "metadata": {},
   "outputs": [],
   "source": []
  }
 ],
 "metadata": {
  "kernelspec": {
   "display_name": "Python 3 (ipykernel)",
   "language": "python",
   "name": "python3"
  },
  "language_info": {
   "codemirror_mode": {
    "name": "ipython",
    "version": 3
   },
   "file_extension": ".py",
   "mimetype": "text/x-python",
   "name": "python",
   "nbconvert_exporter": "python",
   "pygments_lexer": "ipython3",
   "version": "3.9.13"
  }
 },
 "nbformat": 4,
 "nbformat_minor": 5
}
