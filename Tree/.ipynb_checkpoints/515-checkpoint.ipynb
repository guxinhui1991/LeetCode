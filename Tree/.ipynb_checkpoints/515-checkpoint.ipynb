{
 "cells": [
  {
   "cell_type": "code",
   "execution_count": 1,
   "id": "9d4a6b21",
   "metadata": {},
   "outputs": [],
   "source": [
    "# Definition for a binary tree node.\n",
    "# class TreeNode(object):\n",
    "#     def __init__(self, val=0, left=None, right=None):\n",
    "#         self.val = val\n",
    "#         self.left = left\n",
    "#         self.right = right\n",
    "class Solution(object):\n",
    "    def largestValues(self, root):\n",
    "        \"\"\"\n",
    "        :type root: TreeNode\n",
    "        :rtype: List[int]\n",
    "        \"\"\"\n",
    "        \n",
    "        queue = []\n",
    "        if not root: return\n",
    "\n",
    "        res = [root.val]\n",
    "        if root.left != None: \n",
    "            queue.append(root.left)\n",
    "        if root.right != None:\n",
    "            queue.append(root.right)\n",
    "        \n",
    "        while(queue):\n",
    "            size = len(queue)\n",
    "            level_max = queue[0].val\n",
    "            for i in range(size):\n",
    "                tmpNode = queue.pop()\n",
    "                level_max = max(level_max,tmpNode.val)\n",
    "                if tmpNode.left!= None:  queue.insert(0, tmpNode.left)\n",
    "                if tmpNode.right!= None:  queue.insert(0, tmpNode.right)    \n",
    "\n",
    "        \n",
    "            res.append(level_max)\n",
    "        return res"
   ]
  },
  {
   "cell_type": "code",
   "execution_count": null,
   "id": "fd4b8f2c",
   "metadata": {},
   "outputs": [],
   "source": []
  }
 ],
 "metadata": {
  "kernelspec": {
   "display_name": "Python 3 (ipykernel)",
   "language": "python",
   "name": "python3"
  },
  "language_info": {
   "codemirror_mode": {
    "name": "ipython",
    "version": 3
   },
   "file_extension": ".py",
   "mimetype": "text/x-python",
   "name": "python",
   "nbconvert_exporter": "python",
   "pygments_lexer": "ipython3",
   "version": "3.9.13"
  }
 },
 "nbformat": 4,
 "nbformat_minor": 5
}
