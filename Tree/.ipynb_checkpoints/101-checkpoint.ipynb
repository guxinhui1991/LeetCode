{
 "cells": [
  {
   "cell_type": "code",
   "execution_count": 1,
   "id": "52584aa2",
   "metadata": {},
   "outputs": [],
   "source": [
    "class Solution(object):\n",
    "    def isSymmetric(self, root):\n",
    "        \"\"\"\n",
    "        :type root: Node\n",
    "        :rtype: Node\n",
    "        \"\"\"        \n",
    "        \n",
    "        def testSymmetric(root):\n",
    "            if not root: return True\n",
    "            \n",
    "            queue = []\n",
    "            queue.append(root.left)\n",
    "            queue.append(root.right)\n",
    "        \n",
    "            while(queue):\n",
    "                lNode = queue.pop()\n",
    "                rNode = queue.pop()\n",
    "                if(not lNode and not rNode): continue \n",
    "                    \n",
    "                if(not lNode or not rNode or lNode.val!=rNode.val): return False\n",
    "\n",
    "\n",
    "                queue.append(lNode.left)\n",
    "                queue.append(rNode.right)\n",
    "                queue.append(lNode.right)\n",
    "                queue.append(rNode.left)\n",
    "            \n",
    "            return True\n",
    "        return testSymmetric(root)\n",
    "        \n",
    "            "
   ]
  },
  {
   "cell_type": "code",
   "execution_count": null,
   "id": "b8d38a92",
   "metadata": {},
   "outputs": [],
   "source": []
  }
 ],
 "metadata": {
  "kernelspec": {
   "display_name": "Python 3 (ipykernel)",
   "language": "python",
   "name": "python3"
  },
  "language_info": {
   "codemirror_mode": {
    "name": "ipython",
    "version": 3
   },
   "file_extension": ".py",
   "mimetype": "text/x-python",
   "name": "python",
   "nbconvert_exporter": "python",
   "pygments_lexer": "ipython3",
   "version": "3.9.13"
  }
 },
 "nbformat": 4,
 "nbformat_minor": 5
}
