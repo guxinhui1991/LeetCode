{
 "cells": [
  {
   "cell_type": "code",
   "execution_count": 1,
   "id": "4c4fd9d1",
   "metadata": {},
   "outputs": [],
   "source": [
    "\"\"\"\n",
    "# Definition for a Node.\n",
    "class Node(object):\n",
    "    def __init__(self, val=0, left=None, right=None, next=None):\n",
    "        self.val = val\n",
    "        self.left = left\n",
    "        self.right = right\n",
    "        self.next = next\n",
    "\"\"\"\n",
    "\n",
    "class Solution(object):\n",
    "    def connect(self, root):\n",
    "        \"\"\"\n",
    "        :type root: Node\n",
    "        :rtype: Node\n",
    "        \"\"\"        \n",
    "        queue = []\n",
    "        if not root: return\n",
    "\n",
    "        if root.left != None: \n",
    "            queue.append(root.left)\n",
    "        if root.right != None:\n",
    "            queue.append(root.right)\n",
    "        \n",
    "        while(queue):\n",
    "            size = len(queue)\n",
    "            for i in range(size):\n",
    "                tmpNode = queue.pop(0)\n",
    "                if(i<size-1):\n",
    "                    tmpNode.next = queue[0] \n",
    "                if tmpNode.left!= None:  queue.append(tmpNode.left)\n",
    "                if tmpNode.right!= None:  queue.append(tmpNode.right)    \n",
    "\n",
    "        \n",
    "\n",
    "        return root"
   ]
  },
  {
   "cell_type": "code",
   "execution_count": null,
   "id": "de159dab",
   "metadata": {},
   "outputs": [],
   "source": []
  }
 ],
 "metadata": {
  "kernelspec": {
   "display_name": "Python 3 (ipykernel)",
   "language": "python",
   "name": "python3"
  },
  "language_info": {
   "codemirror_mode": {
    "name": "ipython",
    "version": 3
   },
   "file_extension": ".py",
   "mimetype": "text/x-python",
   "name": "python",
   "nbconvert_exporter": "python",
   "pygments_lexer": "ipython3",
   "version": "3.9.13"
  }
 },
 "nbformat": 4,
 "nbformat_minor": 5
}
