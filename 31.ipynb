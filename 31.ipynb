{
 "cells": [
  {
   "cell_type": "code",
   "execution_count": 34,
   "metadata": {
    "collapsed": true
   },
   "outputs": [],
   "source": [
    "class Solution:\n",
    "\n",
    "    def nextPermutation(self, nums):\n",
    "        # Find non-increasing suffix\n",
    "        i = len(nums) - 1\n",
    "        while i > 0 and nums[i - 1] >= nums[i]:\n",
    "            i -= 1\n",
    "        if i <= 0:\n",
    "            print('before : ', nums)\n",
    "            nums[:] = nums[::-1]\n",
    "            print('after : ', nums)\n",
    "            return \n",
    "\n",
    "        # Find successor to pivot\n",
    "        j = len(nums) - 1\n",
    "        while nums[j] <= nums[i - 1]:\n",
    "            j -= 1\n",
    "        nums[i-1], nums[j] = nums[j], nums[i-1]\n",
    "\n",
    "        # Reverse suffix\n",
    "        nums[i:] = nums[len(nums)-1:i-1:-1]\n",
    "        #print(nums)\n",
    "        return "
   ]
  },
  {
   "cell_type": "code",
   "execution_count": 35,
   "metadata": {},
   "outputs": [
    {
     "name": "stdout",
     "output_type": "stream",
     "text": [
      "[1, 3, 2]\n"
     ]
    }
   ],
   "source": [
    "nums = [1,2,3]\n",
    "Solution().nextPermutation(nums)\n",
    "print(nums)"
   ]
  },
  {
   "cell_type": "code",
   "execution_count": 36,
   "metadata": {},
   "outputs": [
    {
     "name": "stdout",
     "output_type": "stream",
     "text": [
      "before :  [3, 2, 1]\n",
      "after :  [1, 2, 3]\n",
      "[1, 2, 3]\n"
     ]
    }
   ],
   "source": [
    "nums = [3, 2, 1]\n",
    "Solution().nextPermutation(nums)\n",
    "print(nums)"
   ]
  },
  {
   "cell_type": "code",
   "execution_count": null,
   "metadata": {
    "collapsed": true
   },
   "outputs": [],
   "source": []
  }
 ],
 "metadata": {
  "kernelspec": {
   "display_name": "Python 3",
   "language": "python",
   "name": "python3"
  },
  "language_info": {
   "codemirror_mode": {
    "name": "ipython",
    "version": 3
   },
   "file_extension": ".py",
   "mimetype": "text/x-python",
   "name": "python",
   "nbconvert_exporter": "python",
   "pygments_lexer": "ipython3",
   "version": "3.6.3"
  }
 },
 "nbformat": 4,
 "nbformat_minor": 2
}
