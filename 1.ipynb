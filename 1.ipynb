{
 "cells": [
  {
   "cell_type": "code",
   "execution_count": 6,
   "metadata": {},
   "outputs": [],
   "source": [
    "class Solution(object):\n",
    "    def twoSum(self, nums, target):\n",
    "        \"\"\"\n",
    "        :type nums: List[int]\n",
    "        :type target: int\n",
    "        :rtype: List[int]\n",
    "        \"\"\"\n",
    "        l=len(nums)\n",
    "        pos1, pos2 = 0, 0\n",
    "        sol = [pos1, pos2]\n",
    "        for i in range(l):\n",
    "            for j in range(i+1, l):\n",
    "                if(target-nums[i] == nums[j]):\n",
    "                    sol[0] = i\n",
    "                    sol[1] = j\n",
    "                    return sol\n",
    "        return sol"
   ]
  },
  {
   "cell_type": "code",
   "execution_count": 7,
   "metadata": {},
   "outputs": [
    {
     "data": {
      "text/plain": [
       "[0, 1]"
      ]
     },
     "execution_count": 7,
     "metadata": {},
     "output_type": "execute_result"
    }
   ],
   "source": [
    "Solution().twoSum([2, 7, 11, 15], 9)"
   ]
  },
  {
   "cell_type": "code",
   "execution_count": 3,
   "metadata": {},
   "outputs": [],
   "source": [
    "# Aug 20, 2019\n",
    "class Solution(object):\n",
    "    def twoSum(self, nums, target):\n",
    "        \"\"\"\n",
    "        :type nums: List[int]\n",
    "        :type target: int\n",
    "        :rtype: List[int]\n",
    "        \"\"\"\n",
    "        d = {}\n",
    "        \n",
    "        for i, n in enumerate(nums):\n",
    "            res = target - n\n",
    "            if n in d:\n",
    "                return [d[n], n]\n",
    "            else:\n",
    "                d[res] = n\n",
    "        return "
   ]
  },
  {
   "cell_type": "code",
   "execution_count": 4,
   "metadata": {},
   "outputs": [
    {
     "data": {
      "text/plain": [
       "[2, 7]"
      ]
     },
     "execution_count": 4,
     "metadata": {},
     "output_type": "execute_result"
    }
   ],
   "source": [
    "Solution().twoSum([2, 7, 11, 15], 9)"
   ]
  },
  {
   "cell_type": "code",
   "execution_count": null,
   "metadata": {},
   "outputs": [],
   "source": [
    "class Solution(object):\n",
    "    def twoSum(self, nums, target):\n",
    "        \"\"\"\n",
    "        :type nums: List[int]\n",
    "        :type target: int\n",
    "        :rtype: List[int]\n",
    "        \"\"\"\n",
    "        l=len(nums)\n",
    "        pos1, pos2 = 0, 0\n",
    "        sol = [pos1, pos2]\n",
    "        for i in range(l):\n",
    "            for j in range(i+1, l):\n",
    "                if(target-nums[i] == nums[j]):\n",
    "                    sol[0] = i\n",
    "                    sol[1] = j\n",
    "                    return sol\n",
    "        return sol"
   ]
  }
 ],
 "metadata": {
  "kernelspec": {
   "display_name": "Python 3",
   "language": "python",
   "name": "python3"
  },
  "language_info": {
   "codemirror_mode": {
    "name": "ipython",
    "version": 3
   },
   "file_extension": ".py",
   "mimetype": "text/x-python",
   "name": "python",
   "nbconvert_exporter": "python",
   "pygments_lexer": "ipython3",
   "version": "3.7.4"
  }
 },
 "nbformat": 4,
 "nbformat_minor": 2
}
