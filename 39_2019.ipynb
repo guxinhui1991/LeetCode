{
 "cells": [
  {
   "cell_type": "code",
   "execution_count": 1,
   "metadata": {},
   "outputs": [],
   "source": [
    "class Solution:\n",
    "    def combinationSum(self, candidates, target):\n",
    "        res = []\n",
    "        candidates.sort()\n",
    "        def dfs(remain, stack):\n",
    "            if not remain:\n",
    "                res.append(stack)\n",
    "                return \n",
    "            for item in candidates:\n",
    "                if item > remain:\n",
    "                    break\n",
    "                elif not stack or item >= stack[-1]:\n",
    "                    dfs(remain - item, stack + [item])\n",
    "        dfs(target, [])\n",
    "        return res"
   ]
  },
  {
   "cell_type": "code",
   "execution_count": null,
   "metadata": {},
   "outputs": [],
   "source": [
    "class Solution:\n",
    "    def combinationSum(self, candidates, target):\n",
    "        res = []\n",
    "        candidates.sort()\n",
    "        self.dfs(candidates, target, 0, [], res)\n",
    "        return res\n",
    "\n",
    "    def dfs(self, nums, target, index, path, res):\n",
    "        if target < 0:\n",
    "            return  # backtracking\n",
    "        if target == 0:\n",
    "            res.append(path)\n",
    "            return \n",
    "        for i in range(index, len(nums)):\n",
    "            self.dfs(nums, target-nums[i], i, path+[nums[i]], res)"
   ]
  },
  {
   "cell_type": "code",
   "execution_count": 9,
   "metadata": {},
   "outputs": [],
   "source": [
    "class Solution:\n",
    "    def search_path(self, candidates, target, index, cur_path, res):\n",
    "        if target == 0:\n",
    "            res.append(cur_path)\n",
    "            print('Yes')\n",
    "            return\n",
    "\n",
    "        if target <candidates[0]:\n",
    "            print('Not Hitting', target, candidates)\n",
    "            return \n",
    "        print(cur_path)\n",
    "        for i in range(index, len(candidates)):\n",
    "            target_new = target - candidates[i]\n",
    "            self.search_path(candidates, target_new, i, cur_path+[candidates[i]], res)\n",
    "\n",
    "\n",
    "    def combinationSum(self, candidates, target):\n",
    "        res = []\n",
    "        candidates = sorted(candidates)        \n",
    "        self.search_path(candidates, target, 0, [], res)\n",
    "        return res\n"
   ]
  },
  {
   "cell_type": "code",
   "execution_count": 10,
   "metadata": {},
   "outputs": [
    {
     "name": "stdout",
     "output_type": "stream",
     "text": [
      "[]\n",
      "[1]\n",
      "[1, 1]\n",
      "[1, 1, 1]\n",
      "[1, 1, 1, 1]\n",
      "[1, 1, 1, 1, 1]\n",
      "Yes\n",
      "Not Hitting -1 [1, 2, 3, 4, 5]\n",
      "Not Hitting -2 [1, 2, 3, 4, 5]\n",
      "Not Hitting -3 [1, 2, 3, 4, 5]\n",
      "Not Hitting -4 [1, 2, 3, 4, 5]\n",
      "Yes\n",
      "Not Hitting -1 [1, 2, 3, 4, 5]\n",
      "Not Hitting -2 [1, 2, 3, 4, 5]\n",
      "Not Hitting -3 [1, 2, 3, 4, 5]\n",
      "[1, 1, 1, 2]\n",
      "Not Hitting -1 [1, 2, 3, 4, 5]\n",
      "Not Hitting -2 [1, 2, 3, 4, 5]\n",
      "Not Hitting -3 [1, 2, 3, 4, 5]\n",
      "Not Hitting -4 [1, 2, 3, 4, 5]\n",
      "Yes\n",
      "Not Hitting -1 [1, 2, 3, 4, 5]\n",
      "Not Hitting -2 [1, 2, 3, 4, 5]\n",
      "[1, 1, 2]\n",
      "Yes\n",
      "Not Hitting -1 [1, 2, 3, 4, 5]\n",
      "Not Hitting -2 [1, 2, 3, 4, 5]\n",
      "Not Hitting -3 [1, 2, 3, 4, 5]\n",
      "[1, 1, 3]\n",
      "Not Hitting -2 [1, 2, 3, 4, 5]\n",
      "Not Hitting -3 [1, 2, 3, 4, 5]\n",
      "Not Hitting -4 [1, 2, 3, 4, 5]\n",
      "Yes\n",
      "Not Hitting -1 [1, 2, 3, 4, 5]\n",
      "[1, 2]\n",
      "[1, 2, 2]\n",
      "Not Hitting -1 [1, 2, 3, 4, 5]\n",
      "Not Hitting -2 [1, 2, 3, 4, 5]\n",
      "Not Hitting -3 [1, 2, 3, 4, 5]\n",
      "Not Hitting -4 [1, 2, 3, 4, 5]\n",
      "Yes\n",
      "Not Hitting -1 [1, 2, 3, 4, 5]\n",
      "Not Hitting -2 [1, 2, 3, 4, 5]\n",
      "[1, 3]\n",
      "Not Hitting -1 [1, 2, 3, 4, 5]\n",
      "Not Hitting -2 [1, 2, 3, 4, 5]\n",
      "Not Hitting -3 [1, 2, 3, 4, 5]\n",
      "[1, 4]\n",
      "Not Hitting -3 [1, 2, 3, 4, 5]\n",
      "Not Hitting -4 [1, 2, 3, 4, 5]\n",
      "Yes\n",
      "[2]\n",
      "[2, 2]\n",
      "Yes\n",
      "Not Hitting -1 [1, 2, 3, 4, 5]\n",
      "Not Hitting -2 [1, 2, 3, 4, 5]\n",
      "Not Hitting -3 [1, 2, 3, 4, 5]\n",
      "[2, 3]\n",
      "Not Hitting -2 [1, 2, 3, 4, 5]\n",
      "Not Hitting -3 [1, 2, 3, 4, 5]\n",
      "Not Hitting -4 [1, 2, 3, 4, 5]\n",
      "Yes\n",
      "Not Hitting -1 [1, 2, 3, 4, 5]\n",
      "[3]\n",
      "Yes\n",
      "Not Hitting -1 [1, 2, 3, 4, 5]\n",
      "Not Hitting -2 [1, 2, 3, 4, 5]\n",
      "[4]\n",
      "Not Hitting -2 [1, 2, 3, 4, 5]\n",
      "Not Hitting -3 [1, 2, 3, 4, 5]\n",
      "[5]\n",
      "Not Hitting -4 [1, 2, 3, 4, 5]\n"
     ]
    },
    {
     "data": {
      "text/plain": [
       "[[1, 1, 1, 1, 1, 1],\n",
       " [1, 1, 1, 1, 2],\n",
       " [1, 1, 1, 3],\n",
       " [1, 1, 2, 2],\n",
       " [1, 1, 4],\n",
       " [1, 2, 3],\n",
       " [1, 5],\n",
       " [2, 2, 2],\n",
       " [2, 4],\n",
       " [3, 3]]"
      ]
     },
     "execution_count": 10,
     "metadata": {},
     "output_type": "execute_result"
    }
   ],
   "source": [
    "candidates = [1,2,3,4,5]\n",
    "target = 6\n",
    "Solution().combinationSum(candidates, target)"
   ]
  },
  {
   "cell_type": "code",
   "execution_count": null,
   "metadata": {},
   "outputs": [],
   "source": []
  }
 ],
 "metadata": {
  "kernelspec": {
   "display_name": "Python 3",
   "language": "python",
   "name": "python3"
  },
  "language_info": {
   "codemirror_mode": {
    "name": "ipython",
    "version": 3
   },
   "file_extension": ".py",
   "mimetype": "text/x-python",
   "name": "python",
   "nbconvert_exporter": "python",
   "pygments_lexer": "ipython3",
   "version": "3.7.3"
  }
 },
 "nbformat": 4,
 "nbformat_minor": 2
}
