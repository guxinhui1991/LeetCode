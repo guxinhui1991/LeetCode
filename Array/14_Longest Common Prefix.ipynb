{
 "cells": [
  {
   "cell_type": "code",
   "execution_count": 1,
   "metadata": {
    "ExecuteTime": {
     "end_time": "2024-01-20T16:25:05.161538Z",
     "start_time": "2024-01-20T16:25:05.134908Z"
    }
   },
   "outputs": [],
   "source": [
    "class Solution(object):\n",
    "    def longestCommonPrefix(self, strs):\n",
    "        \"\"\"\n",
    "        :type strs: List[str]\n",
    "        :rtype: str\n",
    "        \"\"\"\n",
    "        res = \"\"\n",
    "        if not strs: return res\n",
    "        \n",
    "        shortestStr = min(strs, key=len)\n",
    "        \n",
    "        for i, ch in enumerate(shortestStr):\n",
    "            for j in strs:\n",
    "                if i>=len(j) or ch != j[i]:\n",
    "                    return res\n",
    "            \n",
    "            res = res+ch\n",
    "        \n",
    "        return res"
   ]
  },
  {
   "cell_type": "code",
   "execution_count": 2,
   "metadata": {
    "ExecuteTime": {
     "end_time": "2024-01-20T16:25:06.305754Z",
     "start_time": "2024-01-20T16:25:06.282212Z"
    }
   },
   "outputs": [],
   "source": [
    "test1 = [\"flower\",\"flow\",\"flight\"]"
   ]
  },
  {
   "cell_type": "code",
   "execution_count": 3,
   "metadata": {
    "ExecuteTime": {
     "end_time": "2024-01-20T16:25:07.019410Z",
     "start_time": "2024-01-20T16:25:06.983705Z"
    }
   },
   "outputs": [
    {
     "data": {
      "text/plain": "'fl'"
     },
     "execution_count": 3,
     "metadata": {},
     "output_type": "execute_result"
    }
   ],
   "source": [
    "Solution().longestCommonPrefix(test1)"
   ]
  },
  {
   "cell_type": "code",
   "execution_count": 4,
   "metadata": {
    "ExecuteTime": {
     "end_time": "2024-01-20T16:25:07.621584Z",
     "start_time": "2024-01-20T16:25:07.593561Z"
    }
   },
   "outputs": [
    {
     "name": "stdout",
     "output_type": "stream",
     "text": [
      "0 ('f', 'f', 'f')\n",
      "1 ('l', 'l', 'l')\n",
      "2 ('o', 'o', 'i')\n",
      "3 ('w', 'w', 'g')\n"
     ]
    }
   ],
   "source": [
    "for i, ch in enumerate(zip(*test1)):\n",
    "    print (i, ch)"
   ]
  },
  {
   "cell_type": "code",
   "execution_count": 5,
   "metadata": {
    "ExecuteTime": {
     "end_time": "2024-01-20T16:25:08.269861Z",
     "start_time": "2024-01-20T16:25:08.247013Z"
    }
   },
   "outputs": [
    {
     "name": "stdout",
     "output_type": "stream",
     "text": [
      "('f', 'f', 'f')\n",
      "('l', 'l', 'l')\n",
      "('o', 'o', 'i')\n",
      "('w', 'w', 'g')\n"
     ]
    }
   ],
   "source": [
    "for i in (zip(*test1)):\n",
    "    print (i)"
   ]
  },
  {
   "cell_type": "code",
   "execution_count": 6,
   "metadata": {
    "ExecuteTime": {
     "end_time": "2024-01-20T16:25:08.881163Z",
     "start_time": "2024-01-20T16:25:08.858512Z"
    }
   },
   "outputs": [],
   "source": [
    "test2 = [\"ab\", \"a\"]"
   ]
  },
  {
   "cell_type": "code",
   "execution_count": 7,
   "metadata": {
    "ExecuteTime": {
     "end_time": "2024-01-20T16:25:09.672529Z",
     "start_time": "2024-01-20T16:25:09.639178Z"
    }
   },
   "outputs": [
    {
     "data": {
      "text/plain": "'a'"
     },
     "execution_count": 7,
     "metadata": {},
     "output_type": "execute_result"
    }
   ],
   "source": [
    "Solution().longestCommonPrefix(test2)"
   ]
  },
  {
   "cell_type": "code",
   "execution_count": 8,
   "metadata": {
    "ExecuteTime": {
     "end_time": "2024-01-20T16:25:10.263527Z",
     "start_time": "2024-01-20T16:25:10.244366Z"
    }
   },
   "outputs": [
    {
     "data": {
      "text/plain": "'flow'"
     },
     "execution_count": 8,
     "metadata": {},
     "output_type": "execute_result"
    }
   ],
   "source": [
    "min(test1,key=len)"
   ]
  },
  {
   "cell_type": "code",
   "execution_count": null,
   "metadata": {},
   "outputs": [],
   "source": []
  }
 ],
 "metadata": {
  "kernelspec": {
   "display_name": "Python 3 (ipykernel)",
   "language": "python",
   "name": "python3"
  },
  "language_info": {
   "codemirror_mode": {
    "name": "ipython",
    "version": 3
   },
   "file_extension": ".py",
   "mimetype": "text/x-python",
   "name": "python",
   "nbconvert_exporter": "python",
   "pygments_lexer": "ipython3",
   "version": "3.9.13"
  }
 },
 "nbformat": 4,
 "nbformat_minor": 2
}
