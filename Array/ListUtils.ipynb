{
 "cells": [
  {
   "cell_type": "markdown",
   "id": "5d5c8b46",
   "metadata": {},
   "source": [
    "## Lambda function"
   ]
  },
  {
   "cell_type": "code",
   "execution_count": 2,
   "id": "a6cb9229",
   "metadata": {},
   "outputs": [
    {
     "data": {
      "text/plain": [
       "[1, 1]"
      ]
     },
     "execution_count": 2,
     "metadata": {},
     "output_type": "execute_result"
    }
   ],
   "source": [
    "test = [1,1,2,2,3]\n",
    "list(filter(lambda x: x==1, test))"
   ]
  },
  {
   "cell_type": "code",
   "execution_count": 3,
   "id": "83b39ce0",
   "metadata": {},
   "outputs": [
    {
     "data": {
      "text/plain": [
       "3"
      ]
     },
     "execution_count": 3,
     "metadata": {},
     "output_type": "execute_result"
    }
   ],
   "source": [
    "list(filter(lambda x: test.count(x)==1, test))[0]"
   ]
  },
  {
   "cell_type": "code",
   "execution_count": 4,
   "id": "215d93fe",
   "metadata": {},
   "outputs": [
    {
     "data": {
      "text/plain": [
       "[1, 1, 2, 2]"
      ]
     },
     "execution_count": 4,
     "metadata": {},
     "output_type": "execute_result"
    }
   ],
   "source": [
    "list(filter(lambda x: test.count(x)==2, test))"
   ]
  },
  {
   "cell_type": "code",
   "execution_count": 5,
   "id": "a9a1d666",
   "metadata": {},
   "outputs": [
    {
     "data": {
      "text/plain": [
       "3"
      ]
     },
     "execution_count": 5,
     "metadata": {},
     "output_type": "execute_result"
    }
   ],
   "source": [
    "next(i for i in test if test.count(i) == 1)"
   ]
  },
  {
   "cell_type": "code",
   "execution_count": 6,
   "id": "f8df4e2a",
   "metadata": {
    "ExecuteTime": {
     "end_time": "2024-01-15T17:12:04.112597Z",
     "start_time": "2024-01-15T17:12:03.975915Z"
    }
   },
   "outputs": [
    {
     "data": {
      "text/plain": [
       "1"
      ]
     },
     "execution_count": 6,
     "metadata": {},
     "output_type": "execute_result"
    }
   ],
   "source": [
    "next(i for i in test if test.count(i) == 2)"
   ]
  },
  {
   "cell_type": "code",
   "execution_count": 9,
   "id": "d761b066",
   "metadata": {},
   "outputs": [],
   "source": []
  },
  {
   "cell_type": "code",
   "execution_count": 1,
   "id": "e0fb3a7e",
   "metadata": {
    "ExecuteTime": {
     "end_time": "2024-02-24T23:06:35.260653Z",
     "start_time": "2024-02-24T23:06:35.241329Z"
    }
   },
   "outputs": [
    {
     "name": "stdout",
     "output_type": "stream",
     "text": [
      "(1, 2, 4, 6)\n",
      "(1, 4, 2, 3)\n"
     ]
    }
   ],
   "source": [
    "x1 = [1, 4, 6, 2]\n",
    "x2 = [1, 2, 3, 4]\n",
    "\n",
    "zip_arr = zip(x1, x2)\n",
    "sorted_arr = sorted(zip_arr)\n",
    "X1_new, X2_new = zip(*sorted_arr)\n",
    "\n",
    "print(X1_new)\n",
    "print(X2_new)"
   ]
  },
  {
   "cell_type": "code",
   "execution_count": 2,
   "id": "3aaacc0f",
   "metadata": {
    "ExecuteTime": {
     "end_time": "2024-02-24T23:06:38.591212Z",
     "start_time": "2024-02-24T23:06:38.577294Z"
    }
   },
   "outputs": [
    {
     "data": {
      "text/plain": "[(1, 1), (2, 4), (4, 2), (6, 3)]"
     },
     "execution_count": 2,
     "metadata": {},
     "output_type": "execute_result"
    }
   ],
   "source": [
    "sorted_arr"
   ]
  },
  {
   "cell_type": "code",
   "outputs": [],
   "source": [],
   "metadata": {
    "collapsed": false
   },
   "id": "7191195e019989f2"
  }
 ],
 "metadata": {
  "kernelspec": {
   "display_name": "Python 3 (ipykernel)",
   "language": "python",
   "name": "python3"
  },
  "language_info": {
   "codemirror_mode": {
    "name": "ipython",
    "version": 3
   },
   "file_extension": ".py",
   "mimetype": "text/x-python",
   "name": "python",
   "nbconvert_exporter": "python",
   "pygments_lexer": "ipython3",
   "version": "3.7.3"
  }
 },
 "nbformat": 4,
 "nbformat_minor": 5
}
